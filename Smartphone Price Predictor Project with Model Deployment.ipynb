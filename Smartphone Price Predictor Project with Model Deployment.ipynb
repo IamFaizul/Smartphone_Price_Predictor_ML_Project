{
 "cells": [
  {
   "cell_type": "code",
   "execution_count": 1,
   "id": "db41aff9",
   "metadata": {},
   "outputs": [],
   "source": [
    "import numpy as np\n",
    "import pandas as pd\n",
    "import matplotlib.pyplot as plt\n",
    "import re\n",
    "import seaborn as sns"
   ]
  },
  {
   "cell_type": "code",
   "execution_count": 2,
   "id": "93bdbc3c",
   "metadata": {},
   "outputs": [
    {
     "name": "stdout",
     "output_type": "stream",
     "text": [
      "Requirement already satisfied: pandas==1.2.4 in c:\\faizul\\lib\\site-packages (1.2.4)\n",
      "Requirement already satisfied: pytz>=2017.3 in c:\\faizul\\lib\\site-packages (from pandas==1.2.4) (2021.1)\n",
      "Requirement already satisfied: python-dateutil>=2.7.3 in c:\\faizul\\lib\\site-packages (from pandas==1.2.4) (2.8.2)\n",
      "Requirement already satisfied: numpy>=1.16.5 in c:\\faizul\\lib\\site-packages (from pandas==1.2.4) (1.22.4)\n",
      "Requirement already satisfied: six>=1.5 in c:\\faizul\\lib\\site-packages (from python-dateutil>=2.7.3->pandas==1.2.4) (1.15.0)\n"
     ]
    }
   ],
   "source": [
    "!pip install --upgrade pandas==1.2.4\n"
   ]
  },
  {
   "cell_type": "code",
   "execution_count": 3,
   "id": "5f2c7eed",
   "metadata": {},
   "outputs": [
    {
     "name": "stdout",
     "output_type": "stream",
     "text": [
      "1.2.4\n"
     ]
    }
   ],
   "source": [
    "print(pd.__version__)"
   ]
  },
  {
   "cell_type": "code",
   "execution_count": 4,
   "id": "f1d2c013",
   "metadata": {},
   "outputs": [],
   "source": [
    "df = pd.read_csv('Smartphone_price_dataset.csv')"
   ]
  },
  {
   "cell_type": "code",
   "execution_count": 5,
   "id": "56e92297",
   "metadata": {},
   "outputs": [
    {
     "data": {
      "text/html": [
       "<div>\n",
       "<style scoped>\n",
       "    .dataframe tbody tr th:only-of-type {\n",
       "        vertical-align: middle;\n",
       "    }\n",
       "\n",
       "    .dataframe tbody tr th {\n",
       "        vertical-align: top;\n",
       "    }\n",
       "\n",
       "    .dataframe thead th {\n",
       "        text-align: right;\n",
       "    }\n",
       "</style>\n",
       "<table border=\"1\" class=\"dataframe\">\n",
       "  <thead>\n",
       "    <tr style=\"text-align: right;\">\n",
       "      <th></th>\n",
       "      <th>model</th>\n",
       "      <th>price</th>\n",
       "      <th>rating</th>\n",
       "      <th>sim</th>\n",
       "      <th>processor</th>\n",
       "      <th>ram</th>\n",
       "      <th>battery</th>\n",
       "      <th>display</th>\n",
       "      <th>camera</th>\n",
       "      <th>card</th>\n",
       "      <th>os</th>\n",
       "    </tr>\n",
       "  </thead>\n",
       "  <tbody>\n",
       "    <tr>\n",
       "      <th>0</th>\n",
       "      <td>OnePlus 11 5G</td>\n",
       "      <td>₹54,999</td>\n",
       "      <td>89.0</td>\n",
       "      <td>Dual Sim, 3G, 4G, 5G, VoLTE, Wi-Fi, NFC</td>\n",
       "      <td>Snapdragon 8 Gen2, Octa Core, 3.2 GHz Processor</td>\n",
       "      <td>12 GB RAM, 256 GB inbuilt</td>\n",
       "      <td>5000 mAh Battery with 100W Fast Charging</td>\n",
       "      <td>6.7 inches, 1440 x 3216 px, 120 Hz Display wit...</td>\n",
       "      <td>50 MP + 48 MP + 32 MP Triple Rear &amp; 16 MP Fron...</td>\n",
       "      <td>Memory Card Not Supported</td>\n",
       "      <td>Android v13</td>\n",
       "    </tr>\n",
       "    <tr>\n",
       "      <th>1</th>\n",
       "      <td>OnePlus Nord CE 2 Lite 5G</td>\n",
       "      <td>₹19,989</td>\n",
       "      <td>81.0</td>\n",
       "      <td>Dual Sim, 3G, 4G, 5G, VoLTE, Wi-Fi</td>\n",
       "      <td>Snapdragon 695, Octa Core, 2.2 GHz Processor</td>\n",
       "      <td>6 GB RAM, 128 GB inbuilt</td>\n",
       "      <td>5000 mAh Battery with 33W Fast Charging</td>\n",
       "      <td>6.59 inches, 1080 x 2412 px, 120 Hz Display wi...</td>\n",
       "      <td>64 MP + 2 MP + 2 MP Triple Rear &amp; 16 MP Front ...</td>\n",
       "      <td>Memory Card (Hybrid), upto 1 TB</td>\n",
       "      <td>Android v12</td>\n",
       "    </tr>\n",
       "    <tr>\n",
       "      <th>2</th>\n",
       "      <td>Samsung Galaxy A14 5G</td>\n",
       "      <td>₹16,499</td>\n",
       "      <td>75.0</td>\n",
       "      <td>Dual Sim, 3G, 4G, 5G, VoLTE, Wi-Fi</td>\n",
       "      <td>Exynos 1330, Octa Core, 2.4 GHz Processor</td>\n",
       "      <td>4 GB RAM, 64 GB inbuilt</td>\n",
       "      <td>5000 mAh Battery with 15W Fast Charging</td>\n",
       "      <td>6.6 inches, 1080 x 2408 px, 90 Hz Display with...</td>\n",
       "      <td>50 MP + 2 MP + 2 MP Triple Rear &amp; 13 MP Front ...</td>\n",
       "      <td>Memory Card Supported, upto 1 TB</td>\n",
       "      <td>Android v13</td>\n",
       "    </tr>\n",
       "    <tr>\n",
       "      <th>3</th>\n",
       "      <td>Motorola Moto G62 5G</td>\n",
       "      <td>₹14,999</td>\n",
       "      <td>81.0</td>\n",
       "      <td>Dual Sim, 3G, 4G, 5G, VoLTE, Wi-Fi</td>\n",
       "      <td>Snapdragon  695, Octa Core, 2.2 GHz Processor</td>\n",
       "      <td>6 GB RAM, 128 GB inbuilt</td>\n",
       "      <td>5000 mAh Battery with Fast Charging</td>\n",
       "      <td>6.55 inches, 1080 x 2400 px, 120 Hz Display wi...</td>\n",
       "      <td>50 MP + 8 MP + 2 MP Triple Rear &amp; 16 MP Front ...</td>\n",
       "      <td>Memory Card (Hybrid), upto 1 TB</td>\n",
       "      <td>Android v12</td>\n",
       "    </tr>\n",
       "    <tr>\n",
       "      <th>4</th>\n",
       "      <td>Realme 10 Pro Plus</td>\n",
       "      <td>₹24,999</td>\n",
       "      <td>82.0</td>\n",
       "      <td>Dual Sim, 3G, 4G, 5G, VoLTE, Wi-Fi</td>\n",
       "      <td>Dimensity 1080, Octa Core, 2.6 GHz Processor</td>\n",
       "      <td>6 GB RAM, 128 GB inbuilt</td>\n",
       "      <td>5000 mAh Battery with 67W Fast Charging</td>\n",
       "      <td>6.7 inches, 1080 x 2412 px, 120 Hz Display wit...</td>\n",
       "      <td>108 MP + 8 MP + 2 MP Triple Rear &amp; 16 MP Front...</td>\n",
       "      <td>Memory Card Not Supported</td>\n",
       "      <td>Android v13</td>\n",
       "    </tr>\n",
       "    <tr>\n",
       "      <th>5</th>\n",
       "      <td>Samsung Galaxy F23 5G (6GB RAM + 128GB)</td>\n",
       "      <td>₹16,999</td>\n",
       "      <td>80.0</td>\n",
       "      <td>Dual Sim, 3G, 4G, 5G, VoLTE, Wi-Fi, NFC</td>\n",
       "      <td>Snapdragon  750G, Octa Core, 2.2 GHz Processor</td>\n",
       "      <td>6 GB RAM, 128 GB inbuilt</td>\n",
       "      <td>5000 mAh Battery with 25W Fast Charging</td>\n",
       "      <td>6.6 inches, 1080 x 2408 px, 120 Hz Display wit...</td>\n",
       "      <td>50 MP + 8 MP + 2 MP Triple Rear &amp; 8 MP Front C...</td>\n",
       "      <td>Memory Card Supported, upto 1 TB</td>\n",
       "      <td>Android v12</td>\n",
       "    </tr>\n",
       "    <tr>\n",
       "      <th>6</th>\n",
       "      <td>Apple iPhone 14</td>\n",
       "      <td>₹65,999</td>\n",
       "      <td>81.0</td>\n",
       "      <td>Dual Sim, 3G, 4G, 5G, VoLTE, Wi-Fi, NFC</td>\n",
       "      <td>Bionic A15, Hexa Core, 3.22 GHz Processor</td>\n",
       "      <td>6 GB RAM, 128 GB inbuilt</td>\n",
       "      <td>3279 mAh Battery with Fast Charging</td>\n",
       "      <td>6.1 inches, 1170 x 2532 px Display with Small ...</td>\n",
       "      <td>12 MP + 12 MP Dual Rear &amp; 12 MP Front Camera</td>\n",
       "      <td>Memory Card Not Supported</td>\n",
       "      <td>iOS v16</td>\n",
       "    </tr>\n",
       "    <tr>\n",
       "      <th>7</th>\n",
       "      <td>Xiaomi Redmi Note 12 Pro Plus</td>\n",
       "      <td>₹29,999</td>\n",
       "      <td>86.0</td>\n",
       "      <td>Dual Sim, 3G, 4G, 5G, VoLTE, Wi-Fi, IR Blaster</td>\n",
       "      <td>Dimensity 1080, Octa Core, 2.6 GHz Processor</td>\n",
       "      <td>8 GB RAM, 256 GB inbuilt</td>\n",
       "      <td>4980 mAh Battery with 120W Fast Charging</td>\n",
       "      <td>6.67 inches, 1080 x 2400 px, 120 Hz Display wi...</td>\n",
       "      <td>200 MP + 8 MP + 2 MP Triple Rear &amp; 16 MP Front...</td>\n",
       "      <td>Memory Card Not Supported</td>\n",
       "      <td>Android v12</td>\n",
       "    </tr>\n",
       "    <tr>\n",
       "      <th>8</th>\n",
       "      <td>Nothing Phone 1</td>\n",
       "      <td>₹26,749</td>\n",
       "      <td>85.0</td>\n",
       "      <td>Dual Sim, 3G, 4G, 5G, VoLTE, Wi-Fi, NFC</td>\n",
       "      <td>Snapdragon 778G Plus, Octa Core, 2.5 GHz Proce...</td>\n",
       "      <td>8 GB RAM, 128 GB inbuilt</td>\n",
       "      <td>4500 mAh Battery with 33W Fast Charging</td>\n",
       "      <td>6.55 inches, 1080 x 2400 px, 120 Hz Display wi...</td>\n",
       "      <td>50 MP + 50 MP Dual Rear &amp; 16 MP Front Camera</td>\n",
       "      <td>Android v12</td>\n",
       "      <td>No FM Radio</td>\n",
       "    </tr>\n",
       "    <tr>\n",
       "      <th>9</th>\n",
       "      <td>OnePlus Nord 2T 5G</td>\n",
       "      <td>₹28,999</td>\n",
       "      <td>84.0</td>\n",
       "      <td>Dual Sim, 3G, 4G, 5G, VoLTE, Wi-Fi, NFC</td>\n",
       "      <td>Dimensity  1300, Octa Core, 3 GHz Processor</td>\n",
       "      <td>8 GB RAM, 128 GB inbuilt</td>\n",
       "      <td>4500 mAh Battery with 80W Fast Charging</td>\n",
       "      <td>6.43 inches, 1080 x 2400 px, 90 Hz Display wit...</td>\n",
       "      <td>50 MP + 8 MP + 2 MP Triple Rear &amp; 32 MP Front ...</td>\n",
       "      <td>Android v12</td>\n",
       "      <td>No FM Radio</td>\n",
       "    </tr>\n",
       "  </tbody>\n",
       "</table>\n",
       "</div>"
      ],
      "text/plain": [
       "                                     model    price  rating  \\\n",
       "0                            OnePlus 11 5G  ₹54,999    89.0   \n",
       "1                OnePlus Nord CE 2 Lite 5G  ₹19,989    81.0   \n",
       "2                    Samsung Galaxy A14 5G  ₹16,499    75.0   \n",
       "3                     Motorola Moto G62 5G  ₹14,999    81.0   \n",
       "4                       Realme 10 Pro Plus  ₹24,999    82.0   \n",
       "5  Samsung Galaxy F23 5G (6GB RAM + 128GB)  ₹16,999    80.0   \n",
       "6                          Apple iPhone 14  ₹65,999    81.0   \n",
       "7            Xiaomi Redmi Note 12 Pro Plus  ₹29,999    86.0   \n",
       "8                          Nothing Phone 1  ₹26,749    85.0   \n",
       "9                       OnePlus Nord 2T 5G  ₹28,999    84.0   \n",
       "\n",
       "                                              sim  \\\n",
       "0         Dual Sim, 3G, 4G, 5G, VoLTE, Wi-Fi, NFC   \n",
       "1              Dual Sim, 3G, 4G, 5G, VoLTE, Wi-Fi   \n",
       "2              Dual Sim, 3G, 4G, 5G, VoLTE, Wi-Fi   \n",
       "3              Dual Sim, 3G, 4G, 5G, VoLTE, Wi-Fi   \n",
       "4              Dual Sim, 3G, 4G, 5G, VoLTE, Wi-Fi   \n",
       "5         Dual Sim, 3G, 4G, 5G, VoLTE, Wi-Fi, NFC   \n",
       "6         Dual Sim, 3G, 4G, 5G, VoLTE, Wi-Fi, NFC   \n",
       "7  Dual Sim, 3G, 4G, 5G, VoLTE, Wi-Fi, IR Blaster   \n",
       "8         Dual Sim, 3G, 4G, 5G, VoLTE, Wi-Fi, NFC   \n",
       "9         Dual Sim, 3G, 4G, 5G, VoLTE, Wi-Fi, NFC   \n",
       "\n",
       "                                           processor  \\\n",
       "0    Snapdragon 8 Gen2, Octa Core, 3.2 GHz Processor   \n",
       "1       Snapdragon 695, Octa Core, 2.2 GHz Processor   \n",
       "2          Exynos 1330, Octa Core, 2.4 GHz Processor   \n",
       "3      Snapdragon  695, Octa Core, 2.2 GHz Processor   \n",
       "4       Dimensity 1080, Octa Core, 2.6 GHz Processor   \n",
       "5     Snapdragon  750G, Octa Core, 2.2 GHz Processor   \n",
       "6          Bionic A15, Hexa Core, 3.22 GHz Processor   \n",
       "7       Dimensity 1080, Octa Core, 2.6 GHz Processor   \n",
       "8  Snapdragon 778G Plus, Octa Core, 2.5 GHz Proce...   \n",
       "9        Dimensity  1300, Octa Core, 3 GHz Processor   \n",
       "\n",
       "                         ram                                   battery  \\\n",
       "0  12 GB RAM, 256 GB inbuilt  5000 mAh Battery with 100W Fast Charging   \n",
       "1   6 GB RAM, 128 GB inbuilt   5000 mAh Battery with 33W Fast Charging   \n",
       "2    4 GB RAM, 64 GB inbuilt   5000 mAh Battery with 15W Fast Charging   \n",
       "3   6 GB RAM, 128 GB inbuilt       5000 mAh Battery with Fast Charging   \n",
       "4   6 GB RAM, 128 GB inbuilt   5000 mAh Battery with 67W Fast Charging   \n",
       "5   6 GB RAM, 128 GB inbuilt   5000 mAh Battery with 25W Fast Charging   \n",
       "6   6 GB RAM, 128 GB inbuilt       3279 mAh Battery with Fast Charging   \n",
       "7   8 GB RAM, 256 GB inbuilt  4980 mAh Battery with 120W Fast Charging   \n",
       "8   8 GB RAM, 128 GB inbuilt   4500 mAh Battery with 33W Fast Charging   \n",
       "9   8 GB RAM, 128 GB inbuilt   4500 mAh Battery with 80W Fast Charging   \n",
       "\n",
       "                                             display  \\\n",
       "0  6.7 inches, 1440 x 3216 px, 120 Hz Display wit...   \n",
       "1  6.59 inches, 1080 x 2412 px, 120 Hz Display wi...   \n",
       "2  6.6 inches, 1080 x 2408 px, 90 Hz Display with...   \n",
       "3  6.55 inches, 1080 x 2400 px, 120 Hz Display wi...   \n",
       "4  6.7 inches, 1080 x 2412 px, 120 Hz Display wit...   \n",
       "5  6.6 inches, 1080 x 2408 px, 120 Hz Display wit...   \n",
       "6  6.1 inches, 1170 x 2532 px Display with Small ...   \n",
       "7  6.67 inches, 1080 x 2400 px, 120 Hz Display wi...   \n",
       "8  6.55 inches, 1080 x 2400 px, 120 Hz Display wi...   \n",
       "9  6.43 inches, 1080 x 2400 px, 90 Hz Display wit...   \n",
       "\n",
       "                                              camera  \\\n",
       "0  50 MP + 48 MP + 32 MP Triple Rear & 16 MP Fron...   \n",
       "1  64 MP + 2 MP + 2 MP Triple Rear & 16 MP Front ...   \n",
       "2  50 MP + 2 MP + 2 MP Triple Rear & 13 MP Front ...   \n",
       "3  50 MP + 8 MP + 2 MP Triple Rear & 16 MP Front ...   \n",
       "4  108 MP + 8 MP + 2 MP Triple Rear & 16 MP Front...   \n",
       "5  50 MP + 8 MP + 2 MP Triple Rear & 8 MP Front C...   \n",
       "6       12 MP + 12 MP Dual Rear & 12 MP Front Camera   \n",
       "7  200 MP + 8 MP + 2 MP Triple Rear & 16 MP Front...   \n",
       "8       50 MP + 50 MP Dual Rear & 16 MP Front Camera   \n",
       "9  50 MP + 8 MP + 2 MP Triple Rear & 32 MP Front ...   \n",
       "\n",
       "                               card           os  \n",
       "0         Memory Card Not Supported  Android v13  \n",
       "1   Memory Card (Hybrid), upto 1 TB  Android v12  \n",
       "2  Memory Card Supported, upto 1 TB  Android v13  \n",
       "3   Memory Card (Hybrid), upto 1 TB  Android v12  \n",
       "4         Memory Card Not Supported  Android v13  \n",
       "5  Memory Card Supported, upto 1 TB  Android v12  \n",
       "6         Memory Card Not Supported      iOS v16  \n",
       "7         Memory Card Not Supported  Android v12  \n",
       "8                       Android v12  No FM Radio  \n",
       "9                       Android v12  No FM Radio  "
      ]
     },
     "execution_count": 5,
     "metadata": {},
     "output_type": "execute_result"
    }
   ],
   "source": [
    "df.head(10)"
   ]
  },
  {
   "cell_type": "code",
   "execution_count": 6,
   "id": "d6a157a5",
   "metadata": {},
   "outputs": [
    {
     "name": "stdout",
     "output_type": "stream",
     "text": [
      "<class 'pandas.core.frame.DataFrame'>\n",
      "RangeIndex: 1020 entries, 0 to 1019\n",
      "Data columns (total 11 columns):\n",
      " #   Column     Non-Null Count  Dtype  \n",
      "---  ------     --------------  -----  \n",
      " 0   model      1020 non-null   object \n",
      " 1   price      1020 non-null   object \n",
      " 2   rating     879 non-null    float64\n",
      " 3   sim        1020 non-null   object \n",
      " 4   processor  1020 non-null   object \n",
      " 5   ram        1020 non-null   object \n",
      " 6   battery    1020 non-null   object \n",
      " 7   display    1020 non-null   object \n",
      " 8   camera     1019 non-null   object \n",
      " 9   card       1013 non-null   object \n",
      " 10  os         1003 non-null   object \n",
      "dtypes: float64(1), object(10)\n",
      "memory usage: 87.8+ KB\n"
     ]
    }
   ],
   "source": [
    "df.info()"
   ]
  },
  {
   "cell_type": "code",
   "execution_count": 7,
   "id": "a29aa5ea",
   "metadata": {},
   "outputs": [
    {
     "data": {
      "text/plain": [
       "(1020, 11)"
      ]
     },
     "execution_count": 7,
     "metadata": {},
     "output_type": "execute_result"
    }
   ],
   "source": [
    "df.shape"
   ]
  },
  {
   "cell_type": "code",
   "execution_count": 8,
   "id": "f36641bb",
   "metadata": {
    "scrolled": true
   },
   "outputs": [
    {
     "data": {
      "text/plain": [
       "model          0\n",
       "price          0\n",
       "rating       141\n",
       "sim            0\n",
       "processor      0\n",
       "ram            0\n",
       "battery        0\n",
       "display        0\n",
       "camera         1\n",
       "card           7\n",
       "os            17\n",
       "dtype: int64"
      ]
     },
     "execution_count": 8,
     "metadata": {},
     "output_type": "execute_result"
    }
   ],
   "source": [
    "df.isnull().sum()"
   ]
  },
  {
   "cell_type": "code",
   "execution_count": 9,
   "id": "a763b044",
   "metadata": {},
   "outputs": [
    {
     "data": {
      "text/plain": [
       "0"
      ]
     },
     "execution_count": 9,
     "metadata": {},
     "output_type": "execute_result"
    }
   ],
   "source": [
    "df.duplicated().sum()"
   ]
  },
  {
   "cell_type": "code",
   "execution_count": 10,
   "id": "1f02fe3c",
   "metadata": {},
   "outputs": [],
   "source": [
    "df = df.drop(columns=['rating'],axis=1)"
   ]
  },
  {
   "cell_type": "code",
   "execution_count": null,
   "id": "8c93bab2",
   "metadata": {},
   "outputs": [],
   "source": []
  },
  {
   "cell_type": "markdown",
   "id": "51f5d749",
   "metadata": {},
   "source": [
    "# Data Cleaning"
   ]
  },
  {
   "cell_type": "code",
   "execution_count": 11,
   "id": "5a902fd3",
   "metadata": {},
   "outputs": [],
   "source": [
    "# Model column\n",
    "\n",
    "df['Brand'] = df['model'].apply(lambda x: x.split(\" \",1)[0])"
   ]
  },
  {
   "cell_type": "code",
   "execution_count": 12,
   "id": "0953c550",
   "metadata": {},
   "outputs": [],
   "source": [
    "def brand_extraction(text):\n",
    "    if (text==\"Xiaomi\" or text==\"Samsung\" or text==\"Vivo\" or text==\"Realme\" or text==\"OPPO\" or text==\"Motorola\" or text==\"Apple\" or text==\"OnePlus\" or text==\"Tecno\" or text==\"iQOO\" or text==\"Nokia\" or text==\"Infinix\" or text==\"Poco\" or text==\"Oppo\" or text==\"Huawei\" or text==\"Google\" or text==\"Google\" or text==\"Honor\" or text==\"POCO\" or text==\"itel\" or text==\"Sony\" or text==\"Asus\"):\n",
    "        return text\n",
    "    else:\n",
    "        return \"Other brands\""
   ]
  },
  {
   "cell_type": "code",
   "execution_count": 13,
   "id": "3a95b395",
   "metadata": {},
   "outputs": [],
   "source": [
    "df['Brand'] = df['Brand'].apply(brand_extraction)"
   ]
  },
  {
   "cell_type": "code",
   "execution_count": 14,
   "id": "4592e333",
   "metadata": {
    "scrolled": false
   },
   "outputs": [
    {
     "data": {
      "text/plain": [
       "Samsung         135\n",
       "Xiaomi          135\n",
       "Vivo            111\n",
       "Realme           97\n",
       "Other brands     77\n",
       "OPPO             62\n",
       "Motorola         53\n",
       "Apple            47\n",
       "OnePlus          42\n",
       "Tecno            33\n",
       "iQOO             32\n",
       "Nokia            30\n",
       "Infinix          29\n",
       "Poco             28\n",
       "Oppo             26\n",
       "Huawei           16\n",
       "Google           14\n",
       "Honor            13\n",
       "POCO             13\n",
       "itel             11\n",
       "Sony              9\n",
       "Asus              7\n",
       "Name: Brand, dtype: int64"
      ]
     },
     "execution_count": 14,
     "metadata": {},
     "output_type": "execute_result"
    }
   ],
   "source": [
    "df['Brand'].value_counts()"
   ]
  },
  {
   "cell_type": "code",
   "execution_count": 15,
   "id": "73b6cf7e",
   "metadata": {},
   "outputs": [],
   "source": [
    "df = df.drop('model',axis=1)"
   ]
  },
  {
   "cell_type": "code",
   "execution_count": 16,
   "id": "457d0084",
   "metadata": {},
   "outputs": [],
   "source": [
    "df.drop(columns=['sim','card'],axis=1,inplace=True)"
   ]
  },
  {
   "cell_type": "code",
   "execution_count": 17,
   "id": "e3b0c0c6",
   "metadata": {},
   "outputs": [],
   "source": [
    "# Price column\n",
    "\n",
    "df['price'] = df['price'].str.replace('₹','')"
   ]
  },
  {
   "cell_type": "code",
   "execution_count": 18,
   "id": "0a998fe4",
   "metadata": {},
   "outputs": [],
   "source": [
    "df['Price(In Rupees)'] = df['price'].str.replace(',','').astype('int')"
   ]
  },
  {
   "cell_type": "code",
   "execution_count": 19,
   "id": "53a18e7b",
   "metadata": {},
   "outputs": [],
   "source": [
    "df.drop('price',axis=1,inplace=True)"
   ]
  },
  {
   "cell_type": "code",
   "execution_count": 20,
   "id": "c12d3ac7",
   "metadata": {},
   "outputs": [
    {
     "name": "stdout",
     "output_type": "stream",
     "text": [
      "<class 'pandas.core.frame.DataFrame'>\n",
      "RangeIndex: 1020 entries, 0 to 1019\n",
      "Data columns (total 8 columns):\n",
      " #   Column            Non-Null Count  Dtype \n",
      "---  ------            --------------  ----- \n",
      " 0   processor         1020 non-null   object\n",
      " 1   ram               1020 non-null   object\n",
      " 2   battery           1020 non-null   object\n",
      " 3   display           1020 non-null   object\n",
      " 4   camera            1019 non-null   object\n",
      " 5   os                1003 non-null   object\n",
      " 6   Brand             1020 non-null   object\n",
      " 7   Price(In Rupees)  1020 non-null   int32 \n",
      "dtypes: int32(1), object(7)\n",
      "memory usage: 59.9+ KB\n"
     ]
    }
   ],
   "source": [
    "df.info()"
   ]
  },
  {
   "cell_type": "code",
   "execution_count": 21,
   "id": "c27e4465",
   "metadata": {},
   "outputs": [
    {
     "data": {
      "text/html": [
       "<div>\n",
       "<style scoped>\n",
       "    .dataframe tbody tr th:only-of-type {\n",
       "        vertical-align: middle;\n",
       "    }\n",
       "\n",
       "    .dataframe tbody tr th {\n",
       "        vertical-align: top;\n",
       "    }\n",
       "\n",
       "    .dataframe thead th {\n",
       "        text-align: right;\n",
       "    }\n",
       "</style>\n",
       "<table border=\"1\" class=\"dataframe\">\n",
       "  <thead>\n",
       "    <tr style=\"text-align: right;\">\n",
       "      <th></th>\n",
       "      <th>processor</th>\n",
       "      <th>ram</th>\n",
       "      <th>battery</th>\n",
       "      <th>display</th>\n",
       "      <th>camera</th>\n",
       "      <th>os</th>\n",
       "      <th>Brand</th>\n",
       "      <th>Price(In Rupees)</th>\n",
       "    </tr>\n",
       "  </thead>\n",
       "  <tbody>\n",
       "    <tr>\n",
       "      <th>0</th>\n",
       "      <td>Snapdragon 8 Gen2, Octa Core, 3.2 GHz Processor</td>\n",
       "      <td>12 GB RAM, 256 GB inbuilt</td>\n",
       "      <td>5000 mAh Battery with 100W Fast Charging</td>\n",
       "      <td>6.7 inches, 1440 x 3216 px, 120 Hz Display wit...</td>\n",
       "      <td>50 MP + 48 MP + 32 MP Triple Rear &amp; 16 MP Fron...</td>\n",
       "      <td>Android v13</td>\n",
       "      <td>OnePlus</td>\n",
       "      <td>54999</td>\n",
       "    </tr>\n",
       "    <tr>\n",
       "      <th>1</th>\n",
       "      <td>Snapdragon 695, Octa Core, 2.2 GHz Processor</td>\n",
       "      <td>6 GB RAM, 128 GB inbuilt</td>\n",
       "      <td>5000 mAh Battery with 33W Fast Charging</td>\n",
       "      <td>6.59 inches, 1080 x 2412 px, 120 Hz Display wi...</td>\n",
       "      <td>64 MP + 2 MP + 2 MP Triple Rear &amp; 16 MP Front ...</td>\n",
       "      <td>Android v12</td>\n",
       "      <td>OnePlus</td>\n",
       "      <td>19989</td>\n",
       "    </tr>\n",
       "    <tr>\n",
       "      <th>2</th>\n",
       "      <td>Exynos 1330, Octa Core, 2.4 GHz Processor</td>\n",
       "      <td>4 GB RAM, 64 GB inbuilt</td>\n",
       "      <td>5000 mAh Battery with 15W Fast Charging</td>\n",
       "      <td>6.6 inches, 1080 x 2408 px, 90 Hz Display with...</td>\n",
       "      <td>50 MP + 2 MP + 2 MP Triple Rear &amp; 13 MP Front ...</td>\n",
       "      <td>Android v13</td>\n",
       "      <td>Samsung</td>\n",
       "      <td>16499</td>\n",
       "    </tr>\n",
       "    <tr>\n",
       "      <th>3</th>\n",
       "      <td>Snapdragon  695, Octa Core, 2.2 GHz Processor</td>\n",
       "      <td>6 GB RAM, 128 GB inbuilt</td>\n",
       "      <td>5000 mAh Battery with Fast Charging</td>\n",
       "      <td>6.55 inches, 1080 x 2400 px, 120 Hz Display wi...</td>\n",
       "      <td>50 MP + 8 MP + 2 MP Triple Rear &amp; 16 MP Front ...</td>\n",
       "      <td>Android v12</td>\n",
       "      <td>Motorola</td>\n",
       "      <td>14999</td>\n",
       "    </tr>\n",
       "    <tr>\n",
       "      <th>4</th>\n",
       "      <td>Dimensity 1080, Octa Core, 2.6 GHz Processor</td>\n",
       "      <td>6 GB RAM, 128 GB inbuilt</td>\n",
       "      <td>5000 mAh Battery with 67W Fast Charging</td>\n",
       "      <td>6.7 inches, 1080 x 2412 px, 120 Hz Display wit...</td>\n",
       "      <td>108 MP + 8 MP + 2 MP Triple Rear &amp; 16 MP Front...</td>\n",
       "      <td>Android v13</td>\n",
       "      <td>Realme</td>\n",
       "      <td>24999</td>\n",
       "    </tr>\n",
       "    <tr>\n",
       "      <th>5</th>\n",
       "      <td>Snapdragon  750G, Octa Core, 2.2 GHz Processor</td>\n",
       "      <td>6 GB RAM, 128 GB inbuilt</td>\n",
       "      <td>5000 mAh Battery with 25W Fast Charging</td>\n",
       "      <td>6.6 inches, 1080 x 2408 px, 120 Hz Display wit...</td>\n",
       "      <td>50 MP + 8 MP + 2 MP Triple Rear &amp; 8 MP Front C...</td>\n",
       "      <td>Android v12</td>\n",
       "      <td>Samsung</td>\n",
       "      <td>16999</td>\n",
       "    </tr>\n",
       "    <tr>\n",
       "      <th>6</th>\n",
       "      <td>Bionic A15, Hexa Core, 3.22 GHz Processor</td>\n",
       "      <td>6 GB RAM, 128 GB inbuilt</td>\n",
       "      <td>3279 mAh Battery with Fast Charging</td>\n",
       "      <td>6.1 inches, 1170 x 2532 px Display with Small ...</td>\n",
       "      <td>12 MP + 12 MP Dual Rear &amp; 12 MP Front Camera</td>\n",
       "      <td>iOS v16</td>\n",
       "      <td>Apple</td>\n",
       "      <td>65999</td>\n",
       "    </tr>\n",
       "    <tr>\n",
       "      <th>7</th>\n",
       "      <td>Dimensity 1080, Octa Core, 2.6 GHz Processor</td>\n",
       "      <td>8 GB RAM, 256 GB inbuilt</td>\n",
       "      <td>4980 mAh Battery with 120W Fast Charging</td>\n",
       "      <td>6.67 inches, 1080 x 2400 px, 120 Hz Display wi...</td>\n",
       "      <td>200 MP + 8 MP + 2 MP Triple Rear &amp; 16 MP Front...</td>\n",
       "      <td>Android v12</td>\n",
       "      <td>Xiaomi</td>\n",
       "      <td>29999</td>\n",
       "    </tr>\n",
       "    <tr>\n",
       "      <th>8</th>\n",
       "      <td>Snapdragon 778G Plus, Octa Core, 2.5 GHz Proce...</td>\n",
       "      <td>8 GB RAM, 128 GB inbuilt</td>\n",
       "      <td>4500 mAh Battery with 33W Fast Charging</td>\n",
       "      <td>6.55 inches, 1080 x 2400 px, 120 Hz Display wi...</td>\n",
       "      <td>50 MP + 50 MP Dual Rear &amp; 16 MP Front Camera</td>\n",
       "      <td>No FM Radio</td>\n",
       "      <td>Other brands</td>\n",
       "      <td>26749</td>\n",
       "    </tr>\n",
       "    <tr>\n",
       "      <th>9</th>\n",
       "      <td>Dimensity  1300, Octa Core, 3 GHz Processor</td>\n",
       "      <td>8 GB RAM, 128 GB inbuilt</td>\n",
       "      <td>4500 mAh Battery with 80W Fast Charging</td>\n",
       "      <td>6.43 inches, 1080 x 2400 px, 90 Hz Display wit...</td>\n",
       "      <td>50 MP + 8 MP + 2 MP Triple Rear &amp; 32 MP Front ...</td>\n",
       "      <td>No FM Radio</td>\n",
       "      <td>OnePlus</td>\n",
       "      <td>28999</td>\n",
       "    </tr>\n",
       "  </tbody>\n",
       "</table>\n",
       "</div>"
      ],
      "text/plain": [
       "                                           processor  \\\n",
       "0    Snapdragon 8 Gen2, Octa Core, 3.2 GHz Processor   \n",
       "1       Snapdragon 695, Octa Core, 2.2 GHz Processor   \n",
       "2          Exynos 1330, Octa Core, 2.4 GHz Processor   \n",
       "3      Snapdragon  695, Octa Core, 2.2 GHz Processor   \n",
       "4       Dimensity 1080, Octa Core, 2.6 GHz Processor   \n",
       "5     Snapdragon  750G, Octa Core, 2.2 GHz Processor   \n",
       "6          Bionic A15, Hexa Core, 3.22 GHz Processor   \n",
       "7       Dimensity 1080, Octa Core, 2.6 GHz Processor   \n",
       "8  Snapdragon 778G Plus, Octa Core, 2.5 GHz Proce...   \n",
       "9        Dimensity  1300, Octa Core, 3 GHz Processor   \n",
       "\n",
       "                         ram                                   battery  \\\n",
       "0  12 GB RAM, 256 GB inbuilt  5000 mAh Battery with 100W Fast Charging   \n",
       "1   6 GB RAM, 128 GB inbuilt   5000 mAh Battery with 33W Fast Charging   \n",
       "2    4 GB RAM, 64 GB inbuilt   5000 mAh Battery with 15W Fast Charging   \n",
       "3   6 GB RAM, 128 GB inbuilt       5000 mAh Battery with Fast Charging   \n",
       "4   6 GB RAM, 128 GB inbuilt   5000 mAh Battery with 67W Fast Charging   \n",
       "5   6 GB RAM, 128 GB inbuilt   5000 mAh Battery with 25W Fast Charging   \n",
       "6   6 GB RAM, 128 GB inbuilt       3279 mAh Battery with Fast Charging   \n",
       "7   8 GB RAM, 256 GB inbuilt  4980 mAh Battery with 120W Fast Charging   \n",
       "8   8 GB RAM, 128 GB inbuilt   4500 mAh Battery with 33W Fast Charging   \n",
       "9   8 GB RAM, 128 GB inbuilt   4500 mAh Battery with 80W Fast Charging   \n",
       "\n",
       "                                             display  \\\n",
       "0  6.7 inches, 1440 x 3216 px, 120 Hz Display wit...   \n",
       "1  6.59 inches, 1080 x 2412 px, 120 Hz Display wi...   \n",
       "2  6.6 inches, 1080 x 2408 px, 90 Hz Display with...   \n",
       "3  6.55 inches, 1080 x 2400 px, 120 Hz Display wi...   \n",
       "4  6.7 inches, 1080 x 2412 px, 120 Hz Display wit...   \n",
       "5  6.6 inches, 1080 x 2408 px, 120 Hz Display wit...   \n",
       "6  6.1 inches, 1170 x 2532 px Display with Small ...   \n",
       "7  6.67 inches, 1080 x 2400 px, 120 Hz Display wi...   \n",
       "8  6.55 inches, 1080 x 2400 px, 120 Hz Display wi...   \n",
       "9  6.43 inches, 1080 x 2400 px, 90 Hz Display wit...   \n",
       "\n",
       "                                              camera           os  \\\n",
       "0  50 MP + 48 MP + 32 MP Triple Rear & 16 MP Fron...  Android v13   \n",
       "1  64 MP + 2 MP + 2 MP Triple Rear & 16 MP Front ...  Android v12   \n",
       "2  50 MP + 2 MP + 2 MP Triple Rear & 13 MP Front ...  Android v13   \n",
       "3  50 MP + 8 MP + 2 MP Triple Rear & 16 MP Front ...  Android v12   \n",
       "4  108 MP + 8 MP + 2 MP Triple Rear & 16 MP Front...  Android v13   \n",
       "5  50 MP + 8 MP + 2 MP Triple Rear & 8 MP Front C...  Android v12   \n",
       "6       12 MP + 12 MP Dual Rear & 12 MP Front Camera      iOS v16   \n",
       "7  200 MP + 8 MP + 2 MP Triple Rear & 16 MP Front...  Android v12   \n",
       "8       50 MP + 50 MP Dual Rear & 16 MP Front Camera  No FM Radio   \n",
       "9  50 MP + 8 MP + 2 MP Triple Rear & 32 MP Front ...  No FM Radio   \n",
       "\n",
       "          Brand  Price(In Rupees)  \n",
       "0       OnePlus             54999  \n",
       "1       OnePlus             19989  \n",
       "2       Samsung             16499  \n",
       "3      Motorola             14999  \n",
       "4        Realme             24999  \n",
       "5       Samsung             16999  \n",
       "6         Apple             65999  \n",
       "7        Xiaomi             29999  \n",
       "8  Other brands             26749  \n",
       "9       OnePlus             28999  "
      ]
     },
     "execution_count": 21,
     "metadata": {},
     "output_type": "execute_result"
    }
   ],
   "source": [
    "df.head(10)"
   ]
  },
  {
   "cell_type": "code",
   "execution_count": 22,
   "id": "febbf6fd",
   "metadata": {},
   "outputs": [
    {
     "data": {
      "text/plain": [
       "298"
      ]
     },
     "execution_count": 22,
     "metadata": {},
     "output_type": "execute_result"
    }
   ],
   "source": [
    "# Processor column\n",
    "\n",
    "df['processor'].nunique()"
   ]
  },
  {
   "cell_type": "code",
   "execution_count": 23,
   "id": "3b7eed48",
   "metadata": {},
   "outputs": [],
   "source": [
    "df['Processor'] = df['processor'].apply(lambda x: re.sub(r'\\s+', ' ', x.split(',', 1)[0]).strip())"
   ]
  },
  {
   "cell_type": "code",
   "execution_count": 24,
   "id": "dee07edd",
   "metadata": {},
   "outputs": [],
   "source": [
    "df.drop('processor',axis=1,inplace=True)"
   ]
  },
  {
   "cell_type": "code",
   "execution_count": 25,
   "id": "a60baaef",
   "metadata": {},
   "outputs": [
    {
     "data": {
      "text/html": [
       "<div>\n",
       "<style scoped>\n",
       "    .dataframe tbody tr th:only-of-type {\n",
       "        vertical-align: middle;\n",
       "    }\n",
       "\n",
       "    .dataframe tbody tr th {\n",
       "        vertical-align: top;\n",
       "    }\n",
       "\n",
       "    .dataframe thead th {\n",
       "        text-align: right;\n",
       "    }\n",
       "</style>\n",
       "<table border=\"1\" class=\"dataframe\">\n",
       "  <thead>\n",
       "    <tr style=\"text-align: right;\">\n",
       "      <th></th>\n",
       "      <th>ram</th>\n",
       "      <th>battery</th>\n",
       "      <th>display</th>\n",
       "      <th>camera</th>\n",
       "      <th>os</th>\n",
       "      <th>Brand</th>\n",
       "      <th>Price(In Rupees)</th>\n",
       "      <th>Processor</th>\n",
       "    </tr>\n",
       "  </thead>\n",
       "  <tbody>\n",
       "    <tr>\n",
       "      <th>0</th>\n",
       "      <td>12 GB RAM, 256 GB inbuilt</td>\n",
       "      <td>5000 mAh Battery with 100W Fast Charging</td>\n",
       "      <td>6.7 inches, 1440 x 3216 px, 120 Hz Display wit...</td>\n",
       "      <td>50 MP + 48 MP + 32 MP Triple Rear &amp; 16 MP Fron...</td>\n",
       "      <td>Android v13</td>\n",
       "      <td>OnePlus</td>\n",
       "      <td>54999</td>\n",
       "      <td>Snapdragon 8 Gen2</td>\n",
       "    </tr>\n",
       "    <tr>\n",
       "      <th>1</th>\n",
       "      <td>6 GB RAM, 128 GB inbuilt</td>\n",
       "      <td>5000 mAh Battery with 33W Fast Charging</td>\n",
       "      <td>6.59 inches, 1080 x 2412 px, 120 Hz Display wi...</td>\n",
       "      <td>64 MP + 2 MP + 2 MP Triple Rear &amp; 16 MP Front ...</td>\n",
       "      <td>Android v12</td>\n",
       "      <td>OnePlus</td>\n",
       "      <td>19989</td>\n",
       "      <td>Snapdragon 695</td>\n",
       "    </tr>\n",
       "    <tr>\n",
       "      <th>2</th>\n",
       "      <td>4 GB RAM, 64 GB inbuilt</td>\n",
       "      <td>5000 mAh Battery with 15W Fast Charging</td>\n",
       "      <td>6.6 inches, 1080 x 2408 px, 90 Hz Display with...</td>\n",
       "      <td>50 MP + 2 MP + 2 MP Triple Rear &amp; 13 MP Front ...</td>\n",
       "      <td>Android v13</td>\n",
       "      <td>Samsung</td>\n",
       "      <td>16499</td>\n",
       "      <td>Exynos 1330</td>\n",
       "    </tr>\n",
       "    <tr>\n",
       "      <th>3</th>\n",
       "      <td>6 GB RAM, 128 GB inbuilt</td>\n",
       "      <td>5000 mAh Battery with Fast Charging</td>\n",
       "      <td>6.55 inches, 1080 x 2400 px, 120 Hz Display wi...</td>\n",
       "      <td>50 MP + 8 MP + 2 MP Triple Rear &amp; 16 MP Front ...</td>\n",
       "      <td>Android v12</td>\n",
       "      <td>Motorola</td>\n",
       "      <td>14999</td>\n",
       "      <td>Snapdragon 695</td>\n",
       "    </tr>\n",
       "    <tr>\n",
       "      <th>4</th>\n",
       "      <td>6 GB RAM, 128 GB inbuilt</td>\n",
       "      <td>5000 mAh Battery with 67W Fast Charging</td>\n",
       "      <td>6.7 inches, 1080 x 2412 px, 120 Hz Display wit...</td>\n",
       "      <td>108 MP + 8 MP + 2 MP Triple Rear &amp; 16 MP Front...</td>\n",
       "      <td>Android v13</td>\n",
       "      <td>Realme</td>\n",
       "      <td>24999</td>\n",
       "      <td>Dimensity 1080</td>\n",
       "    </tr>\n",
       "  </tbody>\n",
       "</table>\n",
       "</div>"
      ],
      "text/plain": [
       "                         ram                                   battery  \\\n",
       "0  12 GB RAM, 256 GB inbuilt  5000 mAh Battery with 100W Fast Charging   \n",
       "1   6 GB RAM, 128 GB inbuilt   5000 mAh Battery with 33W Fast Charging   \n",
       "2    4 GB RAM, 64 GB inbuilt   5000 mAh Battery with 15W Fast Charging   \n",
       "3   6 GB RAM, 128 GB inbuilt       5000 mAh Battery with Fast Charging   \n",
       "4   6 GB RAM, 128 GB inbuilt   5000 mAh Battery with 67W Fast Charging   \n",
       "\n",
       "                                             display  \\\n",
       "0  6.7 inches, 1440 x 3216 px, 120 Hz Display wit...   \n",
       "1  6.59 inches, 1080 x 2412 px, 120 Hz Display wi...   \n",
       "2  6.6 inches, 1080 x 2408 px, 90 Hz Display with...   \n",
       "3  6.55 inches, 1080 x 2400 px, 120 Hz Display wi...   \n",
       "4  6.7 inches, 1080 x 2412 px, 120 Hz Display wit...   \n",
       "\n",
       "                                              camera           os     Brand  \\\n",
       "0  50 MP + 48 MP + 32 MP Triple Rear & 16 MP Fron...  Android v13   OnePlus   \n",
       "1  64 MP + 2 MP + 2 MP Triple Rear & 16 MP Front ...  Android v12   OnePlus   \n",
       "2  50 MP + 2 MP + 2 MP Triple Rear & 13 MP Front ...  Android v13   Samsung   \n",
       "3  50 MP + 8 MP + 2 MP Triple Rear & 16 MP Front ...  Android v12  Motorola   \n",
       "4  108 MP + 8 MP + 2 MP Triple Rear & 16 MP Front...  Android v13    Realme   \n",
       "\n",
       "   Price(In Rupees)          Processor  \n",
       "0             54999  Snapdragon 8 Gen2  \n",
       "1             19989     Snapdragon 695  \n",
       "2             16499        Exynos 1330  \n",
       "3             14999     Snapdragon 695  \n",
       "4             24999     Dimensity 1080  "
      ]
     },
     "execution_count": 25,
     "metadata": {},
     "output_type": "execute_result"
    }
   ],
   "source": [
    "df.head()"
   ]
  },
  {
   "cell_type": "code",
   "execution_count": 26,
   "id": "41359323",
   "metadata": {},
   "outputs": [
    {
     "data": {
      "text/plain": [
       "Snapdragon 695        53\n",
       "Snapdragon 680        43\n",
       "Snapdragon 8+ Gen1    39\n",
       "Snapdragon 8 Gen1     36\n",
       "Dimensity 700 5G      32\n",
       "Helio P35             31\n",
       "Dimensity 810 5G      27\n",
       "Snapdragon 8 Gen2     26\n",
       "Snapdragon 888        23\n",
       "Snapdragon 870        23\n",
       "Snapdragon 778G       21\n",
       "Helio G96             21\n",
       "Helio G35             20\n",
       "Helio G85             18\n",
       "Bionic A15            18\n",
       "Helio G99             17\n",
       "Helio G80             14\n",
       "Helio G25             13\n",
       "Dimensity 920 5G      13\n",
       "Snapdragon 865        13\n",
       "Name: Processor, dtype: int64"
      ]
     },
     "execution_count": 26,
     "metadata": {},
     "output_type": "execute_result"
    }
   ],
   "source": [
    "df['Processor'].value_counts().head(20)"
   ]
  },
  {
   "cell_type": "code",
   "execution_count": 27,
   "id": "854ebed1",
   "metadata": {},
   "outputs": [],
   "source": [
    "def fetch_processor(text):\n",
    "    if text==\"Snapdragon 695\" or text==\"Snapdragon 680\" or text==\"Snapdragon 8+ Gen1\" or text==\"Snapdragon 8 Gen1\" or text==\"Dimensity 700 5G\" or text==\"Helio P35\" or text==\"Dimensity 810 5G\" or text==\"Snapdragon 8 Gen2\" or text==\"Snapdragon 888\"or text==\"Snapdragon 870\" or text==\"Helio G96\" or text==\"Snapdragon 778G\" or text==\"Helio G35\" or text==\"Helio G85\" or text==\"Bionic A15\"or text==\"Helio G99\":\n",
    "        return text\n",
    "    else:\n",
    "        if text.split()[0]==\"Snapdragon\":\n",
    "            return \"Other Snapdragon Processors\"\n",
    "        elif text.split()[0]==\"Helio\":\n",
    "            return \"Other Helio Processors\"\n",
    "        elif text.split()[0]==\"Exynos\":\n",
    "            return \"Exynos processors\"\n",
    "        elif text.split()[0]==\"Dimensity\":\n",
    "            return \"Other Dimensity Processors\"\n",
    "        elif text.split()[0]==\"Bionic\":\n",
    "            return \"Other Bionic Processors\"\n",
    "        else:\n",
    "            return \"Other Processors\"\n",
    "    "
   ]
  },
  {
   "cell_type": "code",
   "execution_count": 28,
   "id": "be5d98b1",
   "metadata": {},
   "outputs": [],
   "source": [
    "df['Processor'] = df['Processor'].apply(fetch_processor)"
   ]
  },
  {
   "cell_type": "code",
   "execution_count": 29,
   "id": "27bc4e45",
   "metadata": {},
   "outputs": [
    {
     "data": {
      "text/plain": [
       "Other Snapdragon Processors    147\n",
       "Other Processors               142\n",
       "Other Dimensity Processors     118\n",
       "Other Helio Processors          95\n",
       "Snapdragon 695                  53\n",
       "Exynos processors               49\n",
       "Snapdragon 680                  43\n",
       "Snapdragon 8+ Gen1              39\n",
       "Snapdragon 8 Gen1               36\n",
       "Dimensity 700 5G                32\n",
       "Helio P35                       31\n",
       "Dimensity 810 5G                27\n",
       "Snapdragon 8 Gen2               26\n",
       "Snapdragon 888                  23\n",
       "Snapdragon 870                  23\n",
       "Other Bionic Processors         21\n",
       "Snapdragon 778G                 21\n",
       "Helio G96                       21\n",
       "Helio G35                       20\n",
       "Bionic A15                      18\n",
       "Helio G85                       18\n",
       "Helio G99                       17\n",
       "Name: Processor, dtype: int64"
      ]
     },
     "execution_count": 29,
     "metadata": {},
     "output_type": "execute_result"
    }
   ],
   "source": [
    "df['Processor'].value_counts()"
   ]
  },
  {
   "cell_type": "code",
   "execution_count": 30,
   "id": "d09cfd86",
   "metadata": {},
   "outputs": [
    {
     "data": {
      "text/html": [
       "<div>\n",
       "<style scoped>\n",
       "    .dataframe tbody tr th:only-of-type {\n",
       "        vertical-align: middle;\n",
       "    }\n",
       "\n",
       "    .dataframe tbody tr th {\n",
       "        vertical-align: top;\n",
       "    }\n",
       "\n",
       "    .dataframe thead th {\n",
       "        text-align: right;\n",
       "    }\n",
       "</style>\n",
       "<table border=\"1\" class=\"dataframe\">\n",
       "  <thead>\n",
       "    <tr style=\"text-align: right;\">\n",
       "      <th></th>\n",
       "      <th>ram</th>\n",
       "      <th>battery</th>\n",
       "      <th>display</th>\n",
       "      <th>camera</th>\n",
       "      <th>os</th>\n",
       "      <th>Brand</th>\n",
       "      <th>Price(In Rupees)</th>\n",
       "      <th>Processor</th>\n",
       "    </tr>\n",
       "  </thead>\n",
       "  <tbody>\n",
       "    <tr>\n",
       "      <th>0</th>\n",
       "      <td>12 GB RAM, 256 GB inbuilt</td>\n",
       "      <td>5000 mAh Battery with 100W Fast Charging</td>\n",
       "      <td>6.7 inches, 1440 x 3216 px, 120 Hz Display wit...</td>\n",
       "      <td>50 MP + 48 MP + 32 MP Triple Rear &amp; 16 MP Fron...</td>\n",
       "      <td>Android v13</td>\n",
       "      <td>OnePlus</td>\n",
       "      <td>54999</td>\n",
       "      <td>Snapdragon 8 Gen2</td>\n",
       "    </tr>\n",
       "    <tr>\n",
       "      <th>1</th>\n",
       "      <td>6 GB RAM, 128 GB inbuilt</td>\n",
       "      <td>5000 mAh Battery with 33W Fast Charging</td>\n",
       "      <td>6.59 inches, 1080 x 2412 px, 120 Hz Display wi...</td>\n",
       "      <td>64 MP + 2 MP + 2 MP Triple Rear &amp; 16 MP Front ...</td>\n",
       "      <td>Android v12</td>\n",
       "      <td>OnePlus</td>\n",
       "      <td>19989</td>\n",
       "      <td>Snapdragon 695</td>\n",
       "    </tr>\n",
       "    <tr>\n",
       "      <th>2</th>\n",
       "      <td>4 GB RAM, 64 GB inbuilt</td>\n",
       "      <td>5000 mAh Battery with 15W Fast Charging</td>\n",
       "      <td>6.6 inches, 1080 x 2408 px, 90 Hz Display with...</td>\n",
       "      <td>50 MP + 2 MP + 2 MP Triple Rear &amp; 13 MP Front ...</td>\n",
       "      <td>Android v13</td>\n",
       "      <td>Samsung</td>\n",
       "      <td>16499</td>\n",
       "      <td>Exynos processors</td>\n",
       "    </tr>\n",
       "    <tr>\n",
       "      <th>3</th>\n",
       "      <td>6 GB RAM, 128 GB inbuilt</td>\n",
       "      <td>5000 mAh Battery with Fast Charging</td>\n",
       "      <td>6.55 inches, 1080 x 2400 px, 120 Hz Display wi...</td>\n",
       "      <td>50 MP + 8 MP + 2 MP Triple Rear &amp; 16 MP Front ...</td>\n",
       "      <td>Android v12</td>\n",
       "      <td>Motorola</td>\n",
       "      <td>14999</td>\n",
       "      <td>Snapdragon 695</td>\n",
       "    </tr>\n",
       "    <tr>\n",
       "      <th>4</th>\n",
       "      <td>6 GB RAM, 128 GB inbuilt</td>\n",
       "      <td>5000 mAh Battery with 67W Fast Charging</td>\n",
       "      <td>6.7 inches, 1080 x 2412 px, 120 Hz Display wit...</td>\n",
       "      <td>108 MP + 8 MP + 2 MP Triple Rear &amp; 16 MP Front...</td>\n",
       "      <td>Android v13</td>\n",
       "      <td>Realme</td>\n",
       "      <td>24999</td>\n",
       "      <td>Other Dimensity Processors</td>\n",
       "    </tr>\n",
       "  </tbody>\n",
       "</table>\n",
       "</div>"
      ],
      "text/plain": [
       "                         ram                                   battery  \\\n",
       "0  12 GB RAM, 256 GB inbuilt  5000 mAh Battery with 100W Fast Charging   \n",
       "1   6 GB RAM, 128 GB inbuilt   5000 mAh Battery with 33W Fast Charging   \n",
       "2    4 GB RAM, 64 GB inbuilt   5000 mAh Battery with 15W Fast Charging   \n",
       "3   6 GB RAM, 128 GB inbuilt       5000 mAh Battery with Fast Charging   \n",
       "4   6 GB RAM, 128 GB inbuilt   5000 mAh Battery with 67W Fast Charging   \n",
       "\n",
       "                                             display  \\\n",
       "0  6.7 inches, 1440 x 3216 px, 120 Hz Display wit...   \n",
       "1  6.59 inches, 1080 x 2412 px, 120 Hz Display wi...   \n",
       "2  6.6 inches, 1080 x 2408 px, 90 Hz Display with...   \n",
       "3  6.55 inches, 1080 x 2400 px, 120 Hz Display wi...   \n",
       "4  6.7 inches, 1080 x 2412 px, 120 Hz Display wit...   \n",
       "\n",
       "                                              camera           os     Brand  \\\n",
       "0  50 MP + 48 MP + 32 MP Triple Rear & 16 MP Fron...  Android v13   OnePlus   \n",
       "1  64 MP + 2 MP + 2 MP Triple Rear & 16 MP Front ...  Android v12   OnePlus   \n",
       "2  50 MP + 2 MP + 2 MP Triple Rear & 13 MP Front ...  Android v13   Samsung   \n",
       "3  50 MP + 8 MP + 2 MP Triple Rear & 16 MP Front ...  Android v12  Motorola   \n",
       "4  108 MP + 8 MP + 2 MP Triple Rear & 16 MP Front...  Android v13    Realme   \n",
       "\n",
       "   Price(In Rupees)                   Processor  \n",
       "0             54999           Snapdragon 8 Gen2  \n",
       "1             19989              Snapdragon 695  \n",
       "2             16499           Exynos processors  \n",
       "3             14999              Snapdragon 695  \n",
       "4             24999  Other Dimensity Processors  "
      ]
     },
     "execution_count": 30,
     "metadata": {},
     "output_type": "execute_result"
    }
   ],
   "source": [
    "df.head()"
   ]
  },
  {
   "cell_type": "code",
   "execution_count": 31,
   "id": "cc559e3b",
   "metadata": {},
   "outputs": [],
   "source": [
    "# RAM column\n",
    "\n",
    "df['phone_ram'] = df['ram'].apply(lambda x:x.split(\",\",1)[0])"
   ]
  },
  {
   "cell_type": "code",
   "execution_count": 32,
   "id": "35ccfdc7",
   "metadata": {},
   "outputs": [],
   "source": [
    "def extract_ram_size(text):\n",
    "    match = re.search(r'(\\d+)\\s*GB', text)\n",
    "    if match:\n",
    "        return int(match.group(1))\n",
    "    else:\n",
    "        return None"
   ]
  },
  {
   "cell_type": "code",
   "execution_count": 33,
   "id": "3d320b71",
   "metadata": {},
   "outputs": [],
   "source": [
    "df['RAM(GB)'] = df['phone_ram'].apply(extract_ram_size)"
   ]
  },
  {
   "cell_type": "code",
   "execution_count": 34,
   "id": "34ce987d",
   "metadata": {},
   "outputs": [],
   "source": [
    "df['RAM(GB)'] = df['RAM(GB)'].astype('Int64')"
   ]
  },
  {
   "cell_type": "code",
   "execution_count": 35,
   "id": "630d0738",
   "metadata": {},
   "outputs": [],
   "source": [
    "df.drop('phone_ram',axis=1,inplace=True)"
   ]
  },
  {
   "cell_type": "code",
   "execution_count": 36,
   "id": "67399903",
   "metadata": {},
   "outputs": [
    {
     "data": {
      "text/html": [
       "<div>\n",
       "<style scoped>\n",
       "    .dataframe tbody tr th:only-of-type {\n",
       "        vertical-align: middle;\n",
       "    }\n",
       "\n",
       "    .dataframe tbody tr th {\n",
       "        vertical-align: top;\n",
       "    }\n",
       "\n",
       "    .dataframe thead th {\n",
       "        text-align: right;\n",
       "    }\n",
       "</style>\n",
       "<table border=\"1\" class=\"dataframe\">\n",
       "  <thead>\n",
       "    <tr style=\"text-align: right;\">\n",
       "      <th></th>\n",
       "      <th>ram</th>\n",
       "      <th>battery</th>\n",
       "      <th>display</th>\n",
       "      <th>camera</th>\n",
       "      <th>os</th>\n",
       "      <th>Brand</th>\n",
       "      <th>Price(In Rupees)</th>\n",
       "      <th>Processor</th>\n",
       "      <th>RAM(GB)</th>\n",
       "    </tr>\n",
       "  </thead>\n",
       "  <tbody>\n",
       "    <tr>\n",
       "      <th>0</th>\n",
       "      <td>12 GB RAM, 256 GB inbuilt</td>\n",
       "      <td>5000 mAh Battery with 100W Fast Charging</td>\n",
       "      <td>6.7 inches, 1440 x 3216 px, 120 Hz Display wit...</td>\n",
       "      <td>50 MP + 48 MP + 32 MP Triple Rear &amp; 16 MP Fron...</td>\n",
       "      <td>Android v13</td>\n",
       "      <td>OnePlus</td>\n",
       "      <td>54999</td>\n",
       "      <td>Snapdragon 8 Gen2</td>\n",
       "      <td>12</td>\n",
       "    </tr>\n",
       "    <tr>\n",
       "      <th>1</th>\n",
       "      <td>6 GB RAM, 128 GB inbuilt</td>\n",
       "      <td>5000 mAh Battery with 33W Fast Charging</td>\n",
       "      <td>6.59 inches, 1080 x 2412 px, 120 Hz Display wi...</td>\n",
       "      <td>64 MP + 2 MP + 2 MP Triple Rear &amp; 16 MP Front ...</td>\n",
       "      <td>Android v12</td>\n",
       "      <td>OnePlus</td>\n",
       "      <td>19989</td>\n",
       "      <td>Snapdragon 695</td>\n",
       "      <td>6</td>\n",
       "    </tr>\n",
       "    <tr>\n",
       "      <th>2</th>\n",
       "      <td>4 GB RAM, 64 GB inbuilt</td>\n",
       "      <td>5000 mAh Battery with 15W Fast Charging</td>\n",
       "      <td>6.6 inches, 1080 x 2408 px, 90 Hz Display with...</td>\n",
       "      <td>50 MP + 2 MP + 2 MP Triple Rear &amp; 13 MP Front ...</td>\n",
       "      <td>Android v13</td>\n",
       "      <td>Samsung</td>\n",
       "      <td>16499</td>\n",
       "      <td>Exynos processors</td>\n",
       "      <td>4</td>\n",
       "    </tr>\n",
       "    <tr>\n",
       "      <th>3</th>\n",
       "      <td>6 GB RAM, 128 GB inbuilt</td>\n",
       "      <td>5000 mAh Battery with Fast Charging</td>\n",
       "      <td>6.55 inches, 1080 x 2400 px, 120 Hz Display wi...</td>\n",
       "      <td>50 MP + 8 MP + 2 MP Triple Rear &amp; 16 MP Front ...</td>\n",
       "      <td>Android v12</td>\n",
       "      <td>Motorola</td>\n",
       "      <td>14999</td>\n",
       "      <td>Snapdragon 695</td>\n",
       "      <td>6</td>\n",
       "    </tr>\n",
       "    <tr>\n",
       "      <th>4</th>\n",
       "      <td>6 GB RAM, 128 GB inbuilt</td>\n",
       "      <td>5000 mAh Battery with 67W Fast Charging</td>\n",
       "      <td>6.7 inches, 1080 x 2412 px, 120 Hz Display wit...</td>\n",
       "      <td>108 MP + 8 MP + 2 MP Triple Rear &amp; 16 MP Front...</td>\n",
       "      <td>Android v13</td>\n",
       "      <td>Realme</td>\n",
       "      <td>24999</td>\n",
       "      <td>Other Dimensity Processors</td>\n",
       "      <td>6</td>\n",
       "    </tr>\n",
       "  </tbody>\n",
       "</table>\n",
       "</div>"
      ],
      "text/plain": [
       "                         ram                                   battery  \\\n",
       "0  12 GB RAM, 256 GB inbuilt  5000 mAh Battery with 100W Fast Charging   \n",
       "1   6 GB RAM, 128 GB inbuilt   5000 mAh Battery with 33W Fast Charging   \n",
       "2    4 GB RAM, 64 GB inbuilt   5000 mAh Battery with 15W Fast Charging   \n",
       "3   6 GB RAM, 128 GB inbuilt       5000 mAh Battery with Fast Charging   \n",
       "4   6 GB RAM, 128 GB inbuilt   5000 mAh Battery with 67W Fast Charging   \n",
       "\n",
       "                                             display  \\\n",
       "0  6.7 inches, 1440 x 3216 px, 120 Hz Display wit...   \n",
       "1  6.59 inches, 1080 x 2412 px, 120 Hz Display wi...   \n",
       "2  6.6 inches, 1080 x 2408 px, 90 Hz Display with...   \n",
       "3  6.55 inches, 1080 x 2400 px, 120 Hz Display wi...   \n",
       "4  6.7 inches, 1080 x 2412 px, 120 Hz Display wit...   \n",
       "\n",
       "                                              camera           os     Brand  \\\n",
       "0  50 MP + 48 MP + 32 MP Triple Rear & 16 MP Fron...  Android v13   OnePlus   \n",
       "1  64 MP + 2 MP + 2 MP Triple Rear & 16 MP Front ...  Android v12   OnePlus   \n",
       "2  50 MP + 2 MP + 2 MP Triple Rear & 13 MP Front ...  Android v13   Samsung   \n",
       "3  50 MP + 8 MP + 2 MP Triple Rear & 16 MP Front ...  Android v12  Motorola   \n",
       "4  108 MP + 8 MP + 2 MP Triple Rear & 16 MP Front...  Android v13    Realme   \n",
       "\n",
       "   Price(In Rupees)                   Processor  RAM(GB)  \n",
       "0             54999           Snapdragon 8 Gen2       12  \n",
       "1             19989              Snapdragon 695        6  \n",
       "2             16499           Exynos processors        4  \n",
       "3             14999              Snapdragon 695        6  \n",
       "4             24999  Other Dimensity Processors        6  "
      ]
     },
     "execution_count": 36,
     "metadata": {},
     "output_type": "execute_result"
    }
   ],
   "source": [
    "df.head()"
   ]
  },
  {
   "cell_type": "code",
   "execution_count": 37,
   "id": "cde584b9",
   "metadata": {},
   "outputs": [],
   "source": [
    "#ROM\n",
    "\n",
    "def extract_inbuilt_size(text):\n",
    "    match = re.search(r'(\\d+)\\s*GB\\s*inbuilt', text)\n",
    "    if match:\n",
    "        return int(match.group(1))\n",
    "    else:\n",
    "        return None"
   ]
  },
  {
   "cell_type": "code",
   "execution_count": 38,
   "id": "02f5032b",
   "metadata": {},
   "outputs": [],
   "source": [
    "df['ROM(GB)'] = df['ram'].apply(extract_inbuilt_size)"
   ]
  },
  {
   "cell_type": "code",
   "execution_count": 39,
   "id": "c8caf6fd",
   "metadata": {},
   "outputs": [],
   "source": [
    "df['ROM(GB)'] = df['ROM(GB)'].astype('Int64')"
   ]
  },
  {
   "cell_type": "code",
   "execution_count": 40,
   "id": "69a6475f",
   "metadata": {},
   "outputs": [
    {
     "data": {
      "text/html": [
       "<div>\n",
       "<style scoped>\n",
       "    .dataframe tbody tr th:only-of-type {\n",
       "        vertical-align: middle;\n",
       "    }\n",
       "\n",
       "    .dataframe tbody tr th {\n",
       "        vertical-align: top;\n",
       "    }\n",
       "\n",
       "    .dataframe thead th {\n",
       "        text-align: right;\n",
       "    }\n",
       "</style>\n",
       "<table border=\"1\" class=\"dataframe\">\n",
       "  <thead>\n",
       "    <tr style=\"text-align: right;\">\n",
       "      <th></th>\n",
       "      <th>ram</th>\n",
       "      <th>battery</th>\n",
       "      <th>display</th>\n",
       "      <th>camera</th>\n",
       "      <th>os</th>\n",
       "      <th>Brand</th>\n",
       "      <th>Price(In Rupees)</th>\n",
       "      <th>Processor</th>\n",
       "      <th>RAM(GB)</th>\n",
       "      <th>ROM(GB)</th>\n",
       "    </tr>\n",
       "  </thead>\n",
       "  <tbody>\n",
       "    <tr>\n",
       "      <th>0</th>\n",
       "      <td>12 GB RAM, 256 GB inbuilt</td>\n",
       "      <td>5000 mAh Battery with 100W Fast Charging</td>\n",
       "      <td>6.7 inches, 1440 x 3216 px, 120 Hz Display wit...</td>\n",
       "      <td>50 MP + 48 MP + 32 MP Triple Rear &amp; 16 MP Fron...</td>\n",
       "      <td>Android v13</td>\n",
       "      <td>OnePlus</td>\n",
       "      <td>54999</td>\n",
       "      <td>Snapdragon 8 Gen2</td>\n",
       "      <td>12</td>\n",
       "      <td>256</td>\n",
       "    </tr>\n",
       "    <tr>\n",
       "      <th>1</th>\n",
       "      <td>6 GB RAM, 128 GB inbuilt</td>\n",
       "      <td>5000 mAh Battery with 33W Fast Charging</td>\n",
       "      <td>6.59 inches, 1080 x 2412 px, 120 Hz Display wi...</td>\n",
       "      <td>64 MP + 2 MP + 2 MP Triple Rear &amp; 16 MP Front ...</td>\n",
       "      <td>Android v12</td>\n",
       "      <td>OnePlus</td>\n",
       "      <td>19989</td>\n",
       "      <td>Snapdragon 695</td>\n",
       "      <td>6</td>\n",
       "      <td>128</td>\n",
       "    </tr>\n",
       "    <tr>\n",
       "      <th>2</th>\n",
       "      <td>4 GB RAM, 64 GB inbuilt</td>\n",
       "      <td>5000 mAh Battery with 15W Fast Charging</td>\n",
       "      <td>6.6 inches, 1080 x 2408 px, 90 Hz Display with...</td>\n",
       "      <td>50 MP + 2 MP + 2 MP Triple Rear &amp; 13 MP Front ...</td>\n",
       "      <td>Android v13</td>\n",
       "      <td>Samsung</td>\n",
       "      <td>16499</td>\n",
       "      <td>Exynos processors</td>\n",
       "      <td>4</td>\n",
       "      <td>64</td>\n",
       "    </tr>\n",
       "    <tr>\n",
       "      <th>3</th>\n",
       "      <td>6 GB RAM, 128 GB inbuilt</td>\n",
       "      <td>5000 mAh Battery with Fast Charging</td>\n",
       "      <td>6.55 inches, 1080 x 2400 px, 120 Hz Display wi...</td>\n",
       "      <td>50 MP + 8 MP + 2 MP Triple Rear &amp; 16 MP Front ...</td>\n",
       "      <td>Android v12</td>\n",
       "      <td>Motorola</td>\n",
       "      <td>14999</td>\n",
       "      <td>Snapdragon 695</td>\n",
       "      <td>6</td>\n",
       "      <td>128</td>\n",
       "    </tr>\n",
       "    <tr>\n",
       "      <th>4</th>\n",
       "      <td>6 GB RAM, 128 GB inbuilt</td>\n",
       "      <td>5000 mAh Battery with 67W Fast Charging</td>\n",
       "      <td>6.7 inches, 1080 x 2412 px, 120 Hz Display wit...</td>\n",
       "      <td>108 MP + 8 MP + 2 MP Triple Rear &amp; 16 MP Front...</td>\n",
       "      <td>Android v13</td>\n",
       "      <td>Realme</td>\n",
       "      <td>24999</td>\n",
       "      <td>Other Dimensity Processors</td>\n",
       "      <td>6</td>\n",
       "      <td>128</td>\n",
       "    </tr>\n",
       "  </tbody>\n",
       "</table>\n",
       "</div>"
      ],
      "text/plain": [
       "                         ram                                   battery  \\\n",
       "0  12 GB RAM, 256 GB inbuilt  5000 mAh Battery with 100W Fast Charging   \n",
       "1   6 GB RAM, 128 GB inbuilt   5000 mAh Battery with 33W Fast Charging   \n",
       "2    4 GB RAM, 64 GB inbuilt   5000 mAh Battery with 15W Fast Charging   \n",
       "3   6 GB RAM, 128 GB inbuilt       5000 mAh Battery with Fast Charging   \n",
       "4   6 GB RAM, 128 GB inbuilt   5000 mAh Battery with 67W Fast Charging   \n",
       "\n",
       "                                             display  \\\n",
       "0  6.7 inches, 1440 x 3216 px, 120 Hz Display wit...   \n",
       "1  6.59 inches, 1080 x 2412 px, 120 Hz Display wi...   \n",
       "2  6.6 inches, 1080 x 2408 px, 90 Hz Display with...   \n",
       "3  6.55 inches, 1080 x 2400 px, 120 Hz Display wi...   \n",
       "4  6.7 inches, 1080 x 2412 px, 120 Hz Display wit...   \n",
       "\n",
       "                                              camera           os     Brand  \\\n",
       "0  50 MP + 48 MP + 32 MP Triple Rear & 16 MP Fron...  Android v13   OnePlus   \n",
       "1  64 MP + 2 MP + 2 MP Triple Rear & 16 MP Front ...  Android v12   OnePlus   \n",
       "2  50 MP + 2 MP + 2 MP Triple Rear & 13 MP Front ...  Android v13   Samsung   \n",
       "3  50 MP + 8 MP + 2 MP Triple Rear & 16 MP Front ...  Android v12  Motorola   \n",
       "4  108 MP + 8 MP + 2 MP Triple Rear & 16 MP Front...  Android v13    Realme   \n",
       "\n",
       "   Price(In Rupees)                   Processor  RAM(GB)  ROM(GB)  \n",
       "0             54999           Snapdragon 8 Gen2       12      256  \n",
       "1             19989              Snapdragon 695        6      128  \n",
       "2             16499           Exynos processors        4       64  \n",
       "3             14999              Snapdragon 695        6      128  \n",
       "4             24999  Other Dimensity Processors        6      128  "
      ]
     },
     "execution_count": 40,
     "metadata": {},
     "output_type": "execute_result"
    }
   ],
   "source": [
    "df.head()"
   ]
  },
  {
   "cell_type": "code",
   "execution_count": 41,
   "id": "acbe5c2a",
   "metadata": {},
   "outputs": [],
   "source": [
    "df.drop('ram',axis=1,inplace=True)"
   ]
  },
  {
   "cell_type": "code",
   "execution_count": 42,
   "id": "046d8fba",
   "metadata": {},
   "outputs": [
    {
     "name": "stdout",
     "output_type": "stream",
     "text": [
      "<class 'pandas.core.frame.DataFrame'>\n",
      "RangeIndex: 1020 entries, 0 to 1019\n",
      "Data columns (total 9 columns):\n",
      " #   Column            Non-Null Count  Dtype \n",
      "---  ------            --------------  ----- \n",
      " 0   battery           1020 non-null   object\n",
      " 1   display           1020 non-null   object\n",
      " 2   camera            1019 non-null   object\n",
      " 3   os                1003 non-null   object\n",
      " 4   Brand             1020 non-null   object\n",
      " 5   Price(In Rupees)  1020 non-null   int32 \n",
      " 6   Processor         1020 non-null   object\n",
      " 7   RAM(GB)           982 non-null    Int64 \n",
      " 8   ROM(GB)           979 non-null    Int64 \n",
      "dtypes: Int64(2), int32(1), object(6)\n",
      "memory usage: 69.9+ KB\n"
     ]
    }
   ],
   "source": [
    "df.info()"
   ]
  },
  {
   "cell_type": "code",
   "execution_count": 43,
   "id": "0d1a3f44",
   "metadata": {},
   "outputs": [
    {
     "data": {
      "text/html": [
       "<div>\n",
       "<style scoped>\n",
       "    .dataframe tbody tr th:only-of-type {\n",
       "        vertical-align: middle;\n",
       "    }\n",
       "\n",
       "    .dataframe tbody tr th {\n",
       "        vertical-align: top;\n",
       "    }\n",
       "\n",
       "    .dataframe thead th {\n",
       "        text-align: right;\n",
       "    }\n",
       "</style>\n",
       "<table border=\"1\" class=\"dataframe\">\n",
       "  <thead>\n",
       "    <tr style=\"text-align: right;\">\n",
       "      <th></th>\n",
       "      <th>battery</th>\n",
       "      <th>display</th>\n",
       "      <th>camera</th>\n",
       "      <th>os</th>\n",
       "      <th>Brand</th>\n",
       "      <th>Price(In Rupees)</th>\n",
       "      <th>Processor</th>\n",
       "      <th>RAM(GB)</th>\n",
       "      <th>ROM(GB)</th>\n",
       "    </tr>\n",
       "  </thead>\n",
       "  <tbody>\n",
       "    <tr>\n",
       "      <th>0</th>\n",
       "      <td>5000 mAh Battery with 100W Fast Charging</td>\n",
       "      <td>6.7 inches, 1440 x 3216 px, 120 Hz Display wit...</td>\n",
       "      <td>50 MP + 48 MP + 32 MP Triple Rear &amp; 16 MP Fron...</td>\n",
       "      <td>Android v13</td>\n",
       "      <td>OnePlus</td>\n",
       "      <td>54999</td>\n",
       "      <td>Snapdragon 8 Gen2</td>\n",
       "      <td>12</td>\n",
       "      <td>256</td>\n",
       "    </tr>\n",
       "    <tr>\n",
       "      <th>1</th>\n",
       "      <td>5000 mAh Battery with 33W Fast Charging</td>\n",
       "      <td>6.59 inches, 1080 x 2412 px, 120 Hz Display wi...</td>\n",
       "      <td>64 MP + 2 MP + 2 MP Triple Rear &amp; 16 MP Front ...</td>\n",
       "      <td>Android v12</td>\n",
       "      <td>OnePlus</td>\n",
       "      <td>19989</td>\n",
       "      <td>Snapdragon 695</td>\n",
       "      <td>6</td>\n",
       "      <td>128</td>\n",
       "    </tr>\n",
       "    <tr>\n",
       "      <th>2</th>\n",
       "      <td>5000 mAh Battery with 15W Fast Charging</td>\n",
       "      <td>6.6 inches, 1080 x 2408 px, 90 Hz Display with...</td>\n",
       "      <td>50 MP + 2 MP + 2 MP Triple Rear &amp; 13 MP Front ...</td>\n",
       "      <td>Android v13</td>\n",
       "      <td>Samsung</td>\n",
       "      <td>16499</td>\n",
       "      <td>Exynos processors</td>\n",
       "      <td>4</td>\n",
       "      <td>64</td>\n",
       "    </tr>\n",
       "    <tr>\n",
       "      <th>3</th>\n",
       "      <td>5000 mAh Battery with Fast Charging</td>\n",
       "      <td>6.55 inches, 1080 x 2400 px, 120 Hz Display wi...</td>\n",
       "      <td>50 MP + 8 MP + 2 MP Triple Rear &amp; 16 MP Front ...</td>\n",
       "      <td>Android v12</td>\n",
       "      <td>Motorola</td>\n",
       "      <td>14999</td>\n",
       "      <td>Snapdragon 695</td>\n",
       "      <td>6</td>\n",
       "      <td>128</td>\n",
       "    </tr>\n",
       "    <tr>\n",
       "      <th>4</th>\n",
       "      <td>5000 mAh Battery with 67W Fast Charging</td>\n",
       "      <td>6.7 inches, 1080 x 2412 px, 120 Hz Display wit...</td>\n",
       "      <td>108 MP + 8 MP + 2 MP Triple Rear &amp; 16 MP Front...</td>\n",
       "      <td>Android v13</td>\n",
       "      <td>Realme</td>\n",
       "      <td>24999</td>\n",
       "      <td>Other Dimensity Processors</td>\n",
       "      <td>6</td>\n",
       "      <td>128</td>\n",
       "    </tr>\n",
       "  </tbody>\n",
       "</table>\n",
       "</div>"
      ],
      "text/plain": [
       "                                    battery  \\\n",
       "0  5000 mAh Battery with 100W Fast Charging   \n",
       "1   5000 mAh Battery with 33W Fast Charging   \n",
       "2   5000 mAh Battery with 15W Fast Charging   \n",
       "3       5000 mAh Battery with Fast Charging   \n",
       "4   5000 mAh Battery with 67W Fast Charging   \n",
       "\n",
       "                                             display  \\\n",
       "0  6.7 inches, 1440 x 3216 px, 120 Hz Display wit...   \n",
       "1  6.59 inches, 1080 x 2412 px, 120 Hz Display wi...   \n",
       "2  6.6 inches, 1080 x 2408 px, 90 Hz Display with...   \n",
       "3  6.55 inches, 1080 x 2400 px, 120 Hz Display wi...   \n",
       "4  6.7 inches, 1080 x 2412 px, 120 Hz Display wit...   \n",
       "\n",
       "                                              camera           os     Brand  \\\n",
       "0  50 MP + 48 MP + 32 MP Triple Rear & 16 MP Fron...  Android v13   OnePlus   \n",
       "1  64 MP + 2 MP + 2 MP Triple Rear & 16 MP Front ...  Android v12   OnePlus   \n",
       "2  50 MP + 2 MP + 2 MP Triple Rear & 13 MP Front ...  Android v13   Samsung   \n",
       "3  50 MP + 8 MP + 2 MP Triple Rear & 16 MP Front ...  Android v12  Motorola   \n",
       "4  108 MP + 8 MP + 2 MP Triple Rear & 16 MP Front...  Android v13    Realme   \n",
       "\n",
       "   Price(In Rupees)                   Processor  RAM(GB)  ROM(GB)  \n",
       "0             54999           Snapdragon 8 Gen2       12      256  \n",
       "1             19989              Snapdragon 695        6      128  \n",
       "2             16499           Exynos processors        4       64  \n",
       "3             14999              Snapdragon 695        6      128  \n",
       "4             24999  Other Dimensity Processors        6      128  "
      ]
     },
     "execution_count": 43,
     "metadata": {},
     "output_type": "execute_result"
    }
   ],
   "source": [
    "df.head()"
   ]
  },
  {
   "cell_type": "code",
   "execution_count": null,
   "id": "9fa65d80",
   "metadata": {},
   "outputs": [],
   "source": []
  },
  {
   "cell_type": "code",
   "execution_count": 44,
   "id": "fe8e6efb",
   "metadata": {},
   "outputs": [],
   "source": [
    "# Battery column"
   ]
  },
  {
   "cell_type": "code",
   "execution_count": 45,
   "id": "c25d312f",
   "metadata": {},
   "outputs": [
    {
     "data": {
      "text/plain": [
       "5000 mAh Battery with 33W Fast Charging    103\n",
       "5000 mAh Battery with 18W Fast Charging     89\n",
       "5000 mAh Battery                            74\n",
       "5000 mAh Battery with 67W Fast Charging     30\n",
       "5000 mAh Battery with 10W Fast Charging     28\n",
       "                                          ... \n",
       "2230 mAh Battery                             1\n",
       "4.7 inches, 750 x 1334 px Display            1\n",
       "2438 mAh Battery with Fast Charging          1\n",
       "8 MP Rear & 1.2 MP Front Camera              1\n",
       "3400 mAh Battery with Fast Charging          1\n",
       "Name: battery, Length: 256, dtype: int64"
      ]
     },
     "execution_count": 45,
     "metadata": {},
     "output_type": "execute_result"
    }
   ],
   "source": [
    "df['battery'].value_counts()"
   ]
  },
  {
   "cell_type": "code",
   "execution_count": 46,
   "id": "a5811b19",
   "metadata": {},
   "outputs": [],
   "source": [
    "def extract_battery_capacity(text):\n",
    "    match = re.search(r'(\\d+)\\s*mAh', text)\n",
    "    if match:\n",
    "        return int(match.group(1))\n",
    "    else:\n",
    "        return None"
   ]
  },
  {
   "cell_type": "code",
   "execution_count": 47,
   "id": "b04f0347",
   "metadata": {},
   "outputs": [],
   "source": [
    "df['Battery(mAh)'] = df['battery'].apply(extract_battery_capacity)"
   ]
  },
  {
   "cell_type": "code",
   "execution_count": 48,
   "id": "bc472f90",
   "metadata": {},
   "outputs": [],
   "source": [
    "df['Battery(mAh)'] = df['Battery(mAh)'].astype('Int64')"
   ]
  },
  {
   "cell_type": "code",
   "execution_count": 49,
   "id": "da49e83a",
   "metadata": {},
   "outputs": [],
   "source": [
    "df.drop('battery',axis=1,inplace=True)"
   ]
  },
  {
   "cell_type": "code",
   "execution_count": 50,
   "id": "86794728",
   "metadata": {},
   "outputs": [
    {
     "data": {
      "text/html": [
       "<div>\n",
       "<style scoped>\n",
       "    .dataframe tbody tr th:only-of-type {\n",
       "        vertical-align: middle;\n",
       "    }\n",
       "\n",
       "    .dataframe tbody tr th {\n",
       "        vertical-align: top;\n",
       "    }\n",
       "\n",
       "    .dataframe thead th {\n",
       "        text-align: right;\n",
       "    }\n",
       "</style>\n",
       "<table border=\"1\" class=\"dataframe\">\n",
       "  <thead>\n",
       "    <tr style=\"text-align: right;\">\n",
       "      <th></th>\n",
       "      <th>display</th>\n",
       "      <th>camera</th>\n",
       "      <th>os</th>\n",
       "      <th>Brand</th>\n",
       "      <th>Price(In Rupees)</th>\n",
       "      <th>Processor</th>\n",
       "      <th>RAM(GB)</th>\n",
       "      <th>ROM(GB)</th>\n",
       "      <th>Battery(mAh)</th>\n",
       "    </tr>\n",
       "  </thead>\n",
       "  <tbody>\n",
       "    <tr>\n",
       "      <th>0</th>\n",
       "      <td>6.7 inches, 1440 x 3216 px, 120 Hz Display wit...</td>\n",
       "      <td>50 MP + 48 MP + 32 MP Triple Rear &amp; 16 MP Fron...</td>\n",
       "      <td>Android v13</td>\n",
       "      <td>OnePlus</td>\n",
       "      <td>54999</td>\n",
       "      <td>Snapdragon 8 Gen2</td>\n",
       "      <td>12</td>\n",
       "      <td>256</td>\n",
       "      <td>5000</td>\n",
       "    </tr>\n",
       "    <tr>\n",
       "      <th>1</th>\n",
       "      <td>6.59 inches, 1080 x 2412 px, 120 Hz Display wi...</td>\n",
       "      <td>64 MP + 2 MP + 2 MP Triple Rear &amp; 16 MP Front ...</td>\n",
       "      <td>Android v12</td>\n",
       "      <td>OnePlus</td>\n",
       "      <td>19989</td>\n",
       "      <td>Snapdragon 695</td>\n",
       "      <td>6</td>\n",
       "      <td>128</td>\n",
       "      <td>5000</td>\n",
       "    </tr>\n",
       "    <tr>\n",
       "      <th>2</th>\n",
       "      <td>6.6 inches, 1080 x 2408 px, 90 Hz Display with...</td>\n",
       "      <td>50 MP + 2 MP + 2 MP Triple Rear &amp; 13 MP Front ...</td>\n",
       "      <td>Android v13</td>\n",
       "      <td>Samsung</td>\n",
       "      <td>16499</td>\n",
       "      <td>Exynos processors</td>\n",
       "      <td>4</td>\n",
       "      <td>64</td>\n",
       "      <td>5000</td>\n",
       "    </tr>\n",
       "    <tr>\n",
       "      <th>3</th>\n",
       "      <td>6.55 inches, 1080 x 2400 px, 120 Hz Display wi...</td>\n",
       "      <td>50 MP + 8 MP + 2 MP Triple Rear &amp; 16 MP Front ...</td>\n",
       "      <td>Android v12</td>\n",
       "      <td>Motorola</td>\n",
       "      <td>14999</td>\n",
       "      <td>Snapdragon 695</td>\n",
       "      <td>6</td>\n",
       "      <td>128</td>\n",
       "      <td>5000</td>\n",
       "    </tr>\n",
       "    <tr>\n",
       "      <th>4</th>\n",
       "      <td>6.7 inches, 1080 x 2412 px, 120 Hz Display wit...</td>\n",
       "      <td>108 MP + 8 MP + 2 MP Triple Rear &amp; 16 MP Front...</td>\n",
       "      <td>Android v13</td>\n",
       "      <td>Realme</td>\n",
       "      <td>24999</td>\n",
       "      <td>Other Dimensity Processors</td>\n",
       "      <td>6</td>\n",
       "      <td>128</td>\n",
       "      <td>5000</td>\n",
       "    </tr>\n",
       "    <tr>\n",
       "      <th>5</th>\n",
       "      <td>6.6 inches, 1080 x 2408 px, 120 Hz Display wit...</td>\n",
       "      <td>50 MP + 8 MP + 2 MP Triple Rear &amp; 8 MP Front C...</td>\n",
       "      <td>Android v12</td>\n",
       "      <td>Samsung</td>\n",
       "      <td>16999</td>\n",
       "      <td>Other Snapdragon Processors</td>\n",
       "      <td>6</td>\n",
       "      <td>128</td>\n",
       "      <td>5000</td>\n",
       "    </tr>\n",
       "    <tr>\n",
       "      <th>6</th>\n",
       "      <td>6.1 inches, 1170 x 2532 px Display with Small ...</td>\n",
       "      <td>12 MP + 12 MP Dual Rear &amp; 12 MP Front Camera</td>\n",
       "      <td>iOS v16</td>\n",
       "      <td>Apple</td>\n",
       "      <td>65999</td>\n",
       "      <td>Bionic A15</td>\n",
       "      <td>6</td>\n",
       "      <td>128</td>\n",
       "      <td>3279</td>\n",
       "    </tr>\n",
       "    <tr>\n",
       "      <th>7</th>\n",
       "      <td>6.67 inches, 1080 x 2400 px, 120 Hz Display wi...</td>\n",
       "      <td>200 MP + 8 MP + 2 MP Triple Rear &amp; 16 MP Front...</td>\n",
       "      <td>Android v12</td>\n",
       "      <td>Xiaomi</td>\n",
       "      <td>29999</td>\n",
       "      <td>Other Dimensity Processors</td>\n",
       "      <td>8</td>\n",
       "      <td>256</td>\n",
       "      <td>4980</td>\n",
       "    </tr>\n",
       "    <tr>\n",
       "      <th>8</th>\n",
       "      <td>6.55 inches, 1080 x 2400 px, 120 Hz Display wi...</td>\n",
       "      <td>50 MP + 50 MP Dual Rear &amp; 16 MP Front Camera</td>\n",
       "      <td>No FM Radio</td>\n",
       "      <td>Other brands</td>\n",
       "      <td>26749</td>\n",
       "      <td>Other Snapdragon Processors</td>\n",
       "      <td>8</td>\n",
       "      <td>128</td>\n",
       "      <td>4500</td>\n",
       "    </tr>\n",
       "    <tr>\n",
       "      <th>9</th>\n",
       "      <td>6.43 inches, 1080 x 2400 px, 90 Hz Display wit...</td>\n",
       "      <td>50 MP + 8 MP + 2 MP Triple Rear &amp; 32 MP Front ...</td>\n",
       "      <td>No FM Radio</td>\n",
       "      <td>OnePlus</td>\n",
       "      <td>28999</td>\n",
       "      <td>Other Dimensity Processors</td>\n",
       "      <td>8</td>\n",
       "      <td>128</td>\n",
       "      <td>4500</td>\n",
       "    </tr>\n",
       "    <tr>\n",
       "      <th>10</th>\n",
       "      <td>6.72 inches, 1080 x 2400 px, 120 Hz Display wi...</td>\n",
       "      <td>108 MP + 2 MP Dual Rear &amp; 16 MP Front Camera</td>\n",
       "      <td>Android v13</td>\n",
       "      <td>Realme</td>\n",
       "      <td>18999</td>\n",
       "      <td>Snapdragon 695</td>\n",
       "      <td>6</td>\n",
       "      <td>128</td>\n",
       "      <td>5000</td>\n",
       "    </tr>\n",
       "    <tr>\n",
       "      <th>11</th>\n",
       "      <td>6.56 inches, 720 x 1612 px, 90 Hz Display with...</td>\n",
       "      <td>50 MP + 2 MP Dual Rear &amp; 8 MP Front Camera</td>\n",
       "      <td>Android v12</td>\n",
       "      <td>Oppo</td>\n",
       "      <td>18999</td>\n",
       "      <td>Dimensity 700 5G</td>\n",
       "      <td>8</td>\n",
       "      <td>128</td>\n",
       "      <td>5000</td>\n",
       "    </tr>\n",
       "    <tr>\n",
       "      <th>12</th>\n",
       "      <td>6.67 inches, 1080 x 2400 px, 120 Hz Display wi...</td>\n",
       "      <td>50 MP + 8 MP + 2 MP Triple Rear &amp; 16 MP Front ...</td>\n",
       "      <td>No FM Radio</td>\n",
       "      <td>Xiaomi</td>\n",
       "      <td>24762</td>\n",
       "      <td>Other Dimensity Processors</td>\n",
       "      <td>6</td>\n",
       "      <td>128</td>\n",
       "      <td>5000</td>\n",
       "    </tr>\n",
       "    <tr>\n",
       "      <th>13</th>\n",
       "      <td>6.58 inches, 1080 x 2408 px, 120 Hz Display wi...</td>\n",
       "      <td>50 MP + 2 MP + 2 MP Triple Rear &amp; 16 MP Front ...</td>\n",
       "      <td>Android v12</td>\n",
       "      <td>Vivo</td>\n",
       "      <td>16990</td>\n",
       "      <td>Snapdragon 695</td>\n",
       "      <td>6</td>\n",
       "      <td>128</td>\n",
       "      <td>5000</td>\n",
       "    </tr>\n",
       "    <tr>\n",
       "      <th>14</th>\n",
       "      <td>6.8 inches, 1440 x 3088 px, 120 Hz Display wit...</td>\n",
       "      <td>200 MP Quad Rear &amp; 12 MP Front Camera</td>\n",
       "      <td>Android v13</td>\n",
       "      <td>Samsung</td>\n",
       "      <td>114990</td>\n",
       "      <td>Snapdragon 8 Gen2</td>\n",
       "      <td>8</td>\n",
       "      <td>256</td>\n",
       "      <td>5000</td>\n",
       "    </tr>\n",
       "    <tr>\n",
       "      <th>15</th>\n",
       "      <td>6.1 inches, 1170 x 2532 px Display with Small ...</td>\n",
       "      <td>12 MP + 12 MP Dual Rear &amp; 12 MP Front Camera</td>\n",
       "      <td>iOS v15</td>\n",
       "      <td>Apple</td>\n",
       "      <td>62999</td>\n",
       "      <td>Bionic A15</td>\n",
       "      <td>4</td>\n",
       "      <td>128</td>\n",
       "      <td>3240</td>\n",
       "    </tr>\n",
       "    <tr>\n",
       "      <th>16</th>\n",
       "      <td>6.51 inches, 720 x 1600 px Display with Water ...</td>\n",
       "      <td>13 MP + 2 MP Dual Rear &amp; 5 MP Front Camera</td>\n",
       "      <td>Android v12</td>\n",
       "      <td>Vivo</td>\n",
       "      <td>9999</td>\n",
       "      <td>Helio P35</td>\n",
       "      <td>3</td>\n",
       "      <td>32</td>\n",
       "      <td>5000</td>\n",
       "    </tr>\n",
       "    <tr>\n",
       "      <th>17</th>\n",
       "      <td>6.7 inches, 1080 x 2412 px, 120 Hz Display wit...</td>\n",
       "      <td>50 MP + 8 MP + 2 MP Triple Rear &amp; 32 MP Front ...</td>\n",
       "      <td>No FM Radio</td>\n",
       "      <td>OPPO</td>\n",
       "      <td>45999</td>\n",
       "      <td>Snapdragon 8+ Gen1</td>\n",
       "      <td>16</td>\n",
       "      <td>256</td>\n",
       "      <td>4700</td>\n",
       "    </tr>\n",
       "    <tr>\n",
       "      <th>18</th>\n",
       "      <td>6.7 inches, 1080 x 2412 px, 120 Hz Display wit...</td>\n",
       "      <td>50 MP + 8 MP + 2 MP Triple Rear &amp; 16 MP Front ...</td>\n",
       "      <td>Bluetooth</td>\n",
       "      <td>OnePlus</td>\n",
       "      <td>32999</td>\n",
       "      <td>Other Dimensity Processors</td>\n",
       "      <td>8</td>\n",
       "      <td>128</td>\n",
       "      <td>5000</td>\n",
       "    </tr>\n",
       "    <tr>\n",
       "      <th>19</th>\n",
       "      <td>6.55 inches, 720 x 1612 px Display with Water ...</td>\n",
       "      <td>50 MP + 2 MP Dual Rear &amp; 8 MP Front Camera</td>\n",
       "      <td>Android v12</td>\n",
       "      <td>Vivo</td>\n",
       "      <td>14499</td>\n",
       "      <td>Other Helio Processors</td>\n",
       "      <td>4</td>\n",
       "      <td>64</td>\n",
       "      <td>5000</td>\n",
       "    </tr>\n",
       "  </tbody>\n",
       "</table>\n",
       "</div>"
      ],
      "text/plain": [
       "                                              display  \\\n",
       "0   6.7 inches, 1440 x 3216 px, 120 Hz Display wit...   \n",
       "1   6.59 inches, 1080 x 2412 px, 120 Hz Display wi...   \n",
       "2   6.6 inches, 1080 x 2408 px, 90 Hz Display with...   \n",
       "3   6.55 inches, 1080 x 2400 px, 120 Hz Display wi...   \n",
       "4   6.7 inches, 1080 x 2412 px, 120 Hz Display wit...   \n",
       "5   6.6 inches, 1080 x 2408 px, 120 Hz Display wit...   \n",
       "6   6.1 inches, 1170 x 2532 px Display with Small ...   \n",
       "7   6.67 inches, 1080 x 2400 px, 120 Hz Display wi...   \n",
       "8   6.55 inches, 1080 x 2400 px, 120 Hz Display wi...   \n",
       "9   6.43 inches, 1080 x 2400 px, 90 Hz Display wit...   \n",
       "10  6.72 inches, 1080 x 2400 px, 120 Hz Display wi...   \n",
       "11  6.56 inches, 720 x 1612 px, 90 Hz Display with...   \n",
       "12  6.67 inches, 1080 x 2400 px, 120 Hz Display wi...   \n",
       "13  6.58 inches, 1080 x 2408 px, 120 Hz Display wi...   \n",
       "14  6.8 inches, 1440 x 3088 px, 120 Hz Display wit...   \n",
       "15  6.1 inches, 1170 x 2532 px Display with Small ...   \n",
       "16  6.51 inches, 720 x 1600 px Display with Water ...   \n",
       "17  6.7 inches, 1080 x 2412 px, 120 Hz Display wit...   \n",
       "18  6.7 inches, 1080 x 2412 px, 120 Hz Display wit...   \n",
       "19  6.55 inches, 720 x 1612 px Display with Water ...   \n",
       "\n",
       "                                               camera           os  \\\n",
       "0   50 MP + 48 MP + 32 MP Triple Rear & 16 MP Fron...  Android v13   \n",
       "1   64 MP + 2 MP + 2 MP Triple Rear & 16 MP Front ...  Android v12   \n",
       "2   50 MP + 2 MP + 2 MP Triple Rear & 13 MP Front ...  Android v13   \n",
       "3   50 MP + 8 MP + 2 MP Triple Rear & 16 MP Front ...  Android v12   \n",
       "4   108 MP + 8 MP + 2 MP Triple Rear & 16 MP Front...  Android v13   \n",
       "5   50 MP + 8 MP + 2 MP Triple Rear & 8 MP Front C...  Android v12   \n",
       "6        12 MP + 12 MP Dual Rear & 12 MP Front Camera      iOS v16   \n",
       "7   200 MP + 8 MP + 2 MP Triple Rear & 16 MP Front...  Android v12   \n",
       "8        50 MP + 50 MP Dual Rear & 16 MP Front Camera  No FM Radio   \n",
       "9   50 MP + 8 MP + 2 MP Triple Rear & 32 MP Front ...  No FM Radio   \n",
       "10       108 MP + 2 MP Dual Rear & 16 MP Front Camera  Android v13   \n",
       "11         50 MP + 2 MP Dual Rear & 8 MP Front Camera  Android v12   \n",
       "12  50 MP + 8 MP + 2 MP Triple Rear & 16 MP Front ...  No FM Radio   \n",
       "13  50 MP + 2 MP + 2 MP Triple Rear & 16 MP Front ...  Android v12   \n",
       "14              200 MP Quad Rear & 12 MP Front Camera  Android v13   \n",
       "15       12 MP + 12 MP Dual Rear & 12 MP Front Camera      iOS v15   \n",
       "16         13 MP + 2 MP Dual Rear & 5 MP Front Camera  Android v12   \n",
       "17  50 MP + 8 MP + 2 MP Triple Rear & 32 MP Front ...  No FM Radio   \n",
       "18  50 MP + 8 MP + 2 MP Triple Rear & 16 MP Front ...    Bluetooth   \n",
       "19         50 MP + 2 MP Dual Rear & 8 MP Front Camera  Android v12   \n",
       "\n",
       "           Brand  Price(In Rupees)                    Processor  RAM(GB)  \\\n",
       "0        OnePlus             54999            Snapdragon 8 Gen2       12   \n",
       "1        OnePlus             19989               Snapdragon 695        6   \n",
       "2        Samsung             16499            Exynos processors        4   \n",
       "3       Motorola             14999               Snapdragon 695        6   \n",
       "4         Realme             24999   Other Dimensity Processors        6   \n",
       "5        Samsung             16999  Other Snapdragon Processors        6   \n",
       "6          Apple             65999                   Bionic A15        6   \n",
       "7         Xiaomi             29999   Other Dimensity Processors        8   \n",
       "8   Other brands             26749  Other Snapdragon Processors        8   \n",
       "9        OnePlus             28999   Other Dimensity Processors        8   \n",
       "10        Realme             18999               Snapdragon 695        6   \n",
       "11          Oppo             18999             Dimensity 700 5G        8   \n",
       "12        Xiaomi             24762   Other Dimensity Processors        6   \n",
       "13          Vivo             16990               Snapdragon 695        6   \n",
       "14       Samsung            114990            Snapdragon 8 Gen2        8   \n",
       "15         Apple             62999                   Bionic A15        4   \n",
       "16          Vivo              9999                    Helio P35        3   \n",
       "17          OPPO             45999           Snapdragon 8+ Gen1       16   \n",
       "18       OnePlus             32999   Other Dimensity Processors        8   \n",
       "19          Vivo             14499       Other Helio Processors        4   \n",
       "\n",
       "    ROM(GB)  Battery(mAh)  \n",
       "0       256          5000  \n",
       "1       128          5000  \n",
       "2        64          5000  \n",
       "3       128          5000  \n",
       "4       128          5000  \n",
       "5       128          5000  \n",
       "6       128          3279  \n",
       "7       256          4980  \n",
       "8       128          4500  \n",
       "9       128          4500  \n",
       "10      128          5000  \n",
       "11      128          5000  \n",
       "12      128          5000  \n",
       "13      128          5000  \n",
       "14      256          5000  \n",
       "15      128          3240  \n",
       "16       32          5000  \n",
       "17      256          4700  \n",
       "18      128          5000  \n",
       "19       64          5000  "
      ]
     },
     "execution_count": 50,
     "metadata": {},
     "output_type": "execute_result"
    }
   ],
   "source": [
    "df.head(20)"
   ]
  },
  {
   "cell_type": "code",
   "execution_count": 51,
   "id": "ee7e52fd",
   "metadata": {},
   "outputs": [
    {
     "data": {
      "text/plain": [
       "1"
      ]
     },
     "execution_count": 51,
     "metadata": {},
     "output_type": "execute_result"
    }
   ],
   "source": [
    "df['camera'].isnull().sum()"
   ]
  },
  {
   "cell_type": "code",
   "execution_count": 52,
   "id": "78c25629",
   "metadata": {},
   "outputs": [],
   "source": [
    "# Drop the row with missing value in the 'camera' column\n",
    "df.dropna(subset=['camera'], inplace=True)\n"
   ]
  },
  {
   "cell_type": "code",
   "execution_count": 53,
   "id": "8c7a68a9",
   "metadata": {},
   "outputs": [],
   "source": [
    "df['Primary_Rear_Camera(MP)'] = df['camera'].str.extract(r'(\\d+)\\s*MP(?=\\s*[+])').astype(float)\n",
    "df['Secondary_Rear_Camera1(MP)'] = df['camera'].str.extract(r'(\\d+)\\s*MP(?=\\s*[+])', expand=False).astype(float)\n",
    "df['Secondary_Rear_Camera2(MP)'] = df['camera'].str.extract(r'(?<=\\+)\\s*(\\d+)\\s*MP(?=\\s*[+])', expand=False).astype(float)\n",
    "df['Front_Camera(MP)'] = df['camera'].str.extract(r'(\\d+)\\s*MP(?=\\s*Front)', expand=False).astype(float)"
   ]
  },
  {
   "cell_type": "code",
   "execution_count": 54,
   "id": "c1ab4b7f",
   "metadata": {},
   "outputs": [],
   "source": [
    "df['Primary_Rear_Camera(MP)'].fillna(0, inplace=True)\n",
    "df['Secondary_Rear_Camera1(MP)'].fillna(0, inplace=True)\n",
    "df['Secondary_Rear_Camera2(MP)'].fillna(0, inplace=True)\n",
    "df['Front_Camera(MP)'].fillna(0, inplace=True)"
   ]
  },
  {
   "cell_type": "code",
   "execution_count": 55,
   "id": "1383650e",
   "metadata": {},
   "outputs": [],
   "source": [
    "df['Primary_Rear_Camera(MP)'] = df['Primary_Rear_Camera(MP)'].astype(int)\n",
    "df['Secondary_Rear_Camera1(MP)'] = df['Secondary_Rear_Camera1(MP)'].astype(int)\n",
    "df['Secondary_Rear_Camera2(MP)'] = df['Secondary_Rear_Camera2(MP)'].astype(int)\n",
    "df['Front_Camera(MP)'] = df['Front_Camera(MP)'].astype(int)"
   ]
  },
  {
   "cell_type": "code",
   "execution_count": 56,
   "id": "a0066c33",
   "metadata": {},
   "outputs": [
    {
     "data": {
      "text/html": [
       "<div>\n",
       "<style scoped>\n",
       "    .dataframe tbody tr th:only-of-type {\n",
       "        vertical-align: middle;\n",
       "    }\n",
       "\n",
       "    .dataframe tbody tr th {\n",
       "        vertical-align: top;\n",
       "    }\n",
       "\n",
       "    .dataframe thead th {\n",
       "        text-align: right;\n",
       "    }\n",
       "</style>\n",
       "<table border=\"1\" class=\"dataframe\">\n",
       "  <thead>\n",
       "    <tr style=\"text-align: right;\">\n",
       "      <th></th>\n",
       "      <th>display</th>\n",
       "      <th>camera</th>\n",
       "      <th>os</th>\n",
       "      <th>Brand</th>\n",
       "      <th>Price(In Rupees)</th>\n",
       "      <th>Processor</th>\n",
       "      <th>RAM(GB)</th>\n",
       "      <th>ROM(GB)</th>\n",
       "      <th>Battery(mAh)</th>\n",
       "      <th>Primary_Rear_Camera(MP)</th>\n",
       "      <th>Secondary_Rear_Camera1(MP)</th>\n",
       "      <th>Secondary_Rear_Camera2(MP)</th>\n",
       "      <th>Front_Camera(MP)</th>\n",
       "    </tr>\n",
       "  </thead>\n",
       "  <tbody>\n",
       "    <tr>\n",
       "      <th>0</th>\n",
       "      <td>6.7 inches, 1440 x 3216 px, 120 Hz Display wit...</td>\n",
       "      <td>50 MP + 48 MP + 32 MP Triple Rear &amp; 16 MP Fron...</td>\n",
       "      <td>Android v13</td>\n",
       "      <td>OnePlus</td>\n",
       "      <td>54999</td>\n",
       "      <td>Snapdragon 8 Gen2</td>\n",
       "      <td>12</td>\n",
       "      <td>256</td>\n",
       "      <td>5000</td>\n",
       "      <td>50</td>\n",
       "      <td>50</td>\n",
       "      <td>48</td>\n",
       "      <td>16</td>\n",
       "    </tr>\n",
       "    <tr>\n",
       "      <th>1</th>\n",
       "      <td>6.59 inches, 1080 x 2412 px, 120 Hz Display wi...</td>\n",
       "      <td>64 MP + 2 MP + 2 MP Triple Rear &amp; 16 MP Front ...</td>\n",
       "      <td>Android v12</td>\n",
       "      <td>OnePlus</td>\n",
       "      <td>19989</td>\n",
       "      <td>Snapdragon 695</td>\n",
       "      <td>6</td>\n",
       "      <td>128</td>\n",
       "      <td>5000</td>\n",
       "      <td>64</td>\n",
       "      <td>64</td>\n",
       "      <td>2</td>\n",
       "      <td>16</td>\n",
       "    </tr>\n",
       "    <tr>\n",
       "      <th>2</th>\n",
       "      <td>6.6 inches, 1080 x 2408 px, 90 Hz Display with...</td>\n",
       "      <td>50 MP + 2 MP + 2 MP Triple Rear &amp; 13 MP Front ...</td>\n",
       "      <td>Android v13</td>\n",
       "      <td>Samsung</td>\n",
       "      <td>16499</td>\n",
       "      <td>Exynos processors</td>\n",
       "      <td>4</td>\n",
       "      <td>64</td>\n",
       "      <td>5000</td>\n",
       "      <td>50</td>\n",
       "      <td>50</td>\n",
       "      <td>2</td>\n",
       "      <td>13</td>\n",
       "    </tr>\n",
       "    <tr>\n",
       "      <th>3</th>\n",
       "      <td>6.55 inches, 1080 x 2400 px, 120 Hz Display wi...</td>\n",
       "      <td>50 MP + 8 MP + 2 MP Triple Rear &amp; 16 MP Front ...</td>\n",
       "      <td>Android v12</td>\n",
       "      <td>Motorola</td>\n",
       "      <td>14999</td>\n",
       "      <td>Snapdragon 695</td>\n",
       "      <td>6</td>\n",
       "      <td>128</td>\n",
       "      <td>5000</td>\n",
       "      <td>50</td>\n",
       "      <td>50</td>\n",
       "      <td>8</td>\n",
       "      <td>16</td>\n",
       "    </tr>\n",
       "    <tr>\n",
       "      <th>4</th>\n",
       "      <td>6.7 inches, 1080 x 2412 px, 120 Hz Display wit...</td>\n",
       "      <td>108 MP + 8 MP + 2 MP Triple Rear &amp; 16 MP Front...</td>\n",
       "      <td>Android v13</td>\n",
       "      <td>Realme</td>\n",
       "      <td>24999</td>\n",
       "      <td>Other Dimensity Processors</td>\n",
       "      <td>6</td>\n",
       "      <td>128</td>\n",
       "      <td>5000</td>\n",
       "      <td>108</td>\n",
       "      <td>108</td>\n",
       "      <td>8</td>\n",
       "      <td>16</td>\n",
       "    </tr>\n",
       "  </tbody>\n",
       "</table>\n",
       "</div>"
      ],
      "text/plain": [
       "                                             display  \\\n",
       "0  6.7 inches, 1440 x 3216 px, 120 Hz Display wit...   \n",
       "1  6.59 inches, 1080 x 2412 px, 120 Hz Display wi...   \n",
       "2  6.6 inches, 1080 x 2408 px, 90 Hz Display with...   \n",
       "3  6.55 inches, 1080 x 2400 px, 120 Hz Display wi...   \n",
       "4  6.7 inches, 1080 x 2412 px, 120 Hz Display wit...   \n",
       "\n",
       "                                              camera           os     Brand  \\\n",
       "0  50 MP + 48 MP + 32 MP Triple Rear & 16 MP Fron...  Android v13   OnePlus   \n",
       "1  64 MP + 2 MP + 2 MP Triple Rear & 16 MP Front ...  Android v12   OnePlus   \n",
       "2  50 MP + 2 MP + 2 MP Triple Rear & 13 MP Front ...  Android v13   Samsung   \n",
       "3  50 MP + 8 MP + 2 MP Triple Rear & 16 MP Front ...  Android v12  Motorola   \n",
       "4  108 MP + 8 MP + 2 MP Triple Rear & 16 MP Front...  Android v13    Realme   \n",
       "\n",
       "   Price(In Rupees)                   Processor  RAM(GB)  ROM(GB)  \\\n",
       "0             54999           Snapdragon 8 Gen2       12      256   \n",
       "1             19989              Snapdragon 695        6      128   \n",
       "2             16499           Exynos processors        4       64   \n",
       "3             14999              Snapdragon 695        6      128   \n",
       "4             24999  Other Dimensity Processors        6      128   \n",
       "\n",
       "   Battery(mAh)  Primary_Rear_Camera(MP)  Secondary_Rear_Camera1(MP)  \\\n",
       "0          5000                       50                          50   \n",
       "1          5000                       64                          64   \n",
       "2          5000                       50                          50   \n",
       "3          5000                       50                          50   \n",
       "4          5000                      108                         108   \n",
       "\n",
       "   Secondary_Rear_Camera2(MP)  Front_Camera(MP)  \n",
       "0                          48                16  \n",
       "1                           2                16  \n",
       "2                           2                13  \n",
       "3                           8                16  \n",
       "4                           8                16  "
      ]
     },
     "execution_count": 56,
     "metadata": {},
     "output_type": "execute_result"
    }
   ],
   "source": [
    "df.head()"
   ]
  },
  {
   "cell_type": "code",
   "execution_count": 57,
   "id": "ab21a9ac",
   "metadata": {},
   "outputs": [],
   "source": [
    "df.drop('camera',axis=1,inplace=True)"
   ]
  },
  {
   "cell_type": "code",
   "execution_count": 58,
   "id": "f83cde16",
   "metadata": {},
   "outputs": [
    {
     "name": "stdout",
     "output_type": "stream",
     "text": [
      "<class 'pandas.core.frame.DataFrame'>\n",
      "Int64Index: 1019 entries, 0 to 1019\n",
      "Data columns (total 12 columns):\n",
      " #   Column                      Non-Null Count  Dtype \n",
      "---  ------                      --------------  ----- \n",
      " 0   display                     1019 non-null   object\n",
      " 1   os                          1003 non-null   object\n",
      " 2   Brand                       1019 non-null   object\n",
      " 3   Price(In Rupees)            1019 non-null   int32 \n",
      " 4   Processor                   1019 non-null   object\n",
      " 5   RAM(GB)                     982 non-null    Int64 \n",
      " 6   ROM(GB)                     979 non-null    Int64 \n",
      " 7   Battery(mAh)                987 non-null    Int64 \n",
      " 8   Primary_Rear_Camera(MP)     1019 non-null   int32 \n",
      " 9   Secondary_Rear_Camera1(MP)  1019 non-null   int32 \n",
      " 10  Secondary_Rear_Camera2(MP)  1019 non-null   int32 \n",
      " 11  Front_Camera(MP)            1019 non-null   int32 \n",
      "dtypes: Int64(3), int32(5), object(4)\n",
      "memory usage: 86.6+ KB\n"
     ]
    }
   ],
   "source": [
    "df.info()"
   ]
  },
  {
   "cell_type": "code",
   "execution_count": 59,
   "id": "f6633dc0",
   "metadata": {},
   "outputs": [
    {
     "data": {
      "text/plain": [
       "Price(In Rupees)              1.000000\n",
       "RAM(GB)                       0.228594\n",
       "ROM(GB)                       0.526646\n",
       "Battery(mAh)                 -0.102576\n",
       "Primary_Rear_Camera(MP)       0.010761\n",
       "Secondary_Rear_Camera1(MP)    0.010761\n",
       "Secondary_Rear_Camera2(MP)    0.224182\n",
       "Front_Camera(MP)              0.071232\n",
       "Name: Price(In Rupees), dtype: float64"
      ]
     },
     "execution_count": 59,
     "metadata": {},
     "output_type": "execute_result"
    }
   ],
   "source": [
    "df.corr()['Price(In Rupees)']"
   ]
  },
  {
   "cell_type": "code",
   "execution_count": null,
   "id": "ccf20e67",
   "metadata": {},
   "outputs": [],
   "source": []
  },
  {
   "cell_type": "code",
   "execution_count": 60,
   "id": "70f8547b",
   "metadata": {},
   "outputs": [],
   "source": [
    "# Display column\n",
    "\n",
    "# df['Display_size(inches)'] = df['display'].str.extract(r'(\\d+\\.\\d+) inches', expand=False).astype(float)\n",
    "\n",
    "def extract_display_size(text):\n",
    "    match = re.search(r'(\\d+\\.\\d+)\\sinches', text)\n",
    "    if match:\n",
    "        return float(match.group(1))\n",
    "    else:\n",
    "        return None"
   ]
  },
  {
   "cell_type": "code",
   "execution_count": 61,
   "id": "b53ba421",
   "metadata": {},
   "outputs": [],
   "source": [
    "df['Display(inches)'] = df['display'].apply(extract_display_size)"
   ]
  },
  {
   "cell_type": "code",
   "execution_count": 62,
   "id": "3a75768e",
   "metadata": {},
   "outputs": [],
   "source": [
    "df['Display(inches)'] = df['Display(inches)'].astype('float64')"
   ]
  },
  {
   "cell_type": "code",
   "execution_count": 63,
   "id": "3b4830c6",
   "metadata": {},
   "outputs": [
    {
     "data": {
      "text/html": [
       "<div>\n",
       "<style scoped>\n",
       "    .dataframe tbody tr th:only-of-type {\n",
       "        vertical-align: middle;\n",
       "    }\n",
       "\n",
       "    .dataframe tbody tr th {\n",
       "        vertical-align: top;\n",
       "    }\n",
       "\n",
       "    .dataframe thead th {\n",
       "        text-align: right;\n",
       "    }\n",
       "</style>\n",
       "<table border=\"1\" class=\"dataframe\">\n",
       "  <thead>\n",
       "    <tr style=\"text-align: right;\">\n",
       "      <th></th>\n",
       "      <th>display</th>\n",
       "      <th>os</th>\n",
       "      <th>Brand</th>\n",
       "      <th>Price(In Rupees)</th>\n",
       "      <th>Processor</th>\n",
       "      <th>RAM(GB)</th>\n",
       "      <th>ROM(GB)</th>\n",
       "      <th>Battery(mAh)</th>\n",
       "      <th>Primary_Rear_Camera(MP)</th>\n",
       "      <th>Secondary_Rear_Camera1(MP)</th>\n",
       "      <th>Secondary_Rear_Camera2(MP)</th>\n",
       "      <th>Front_Camera(MP)</th>\n",
       "      <th>Display(inches)</th>\n",
       "    </tr>\n",
       "  </thead>\n",
       "  <tbody>\n",
       "    <tr>\n",
       "      <th>0</th>\n",
       "      <td>6.7 inches, 1440 x 3216 px, 120 Hz Display wit...</td>\n",
       "      <td>Android v13</td>\n",
       "      <td>OnePlus</td>\n",
       "      <td>54999</td>\n",
       "      <td>Snapdragon 8 Gen2</td>\n",
       "      <td>12</td>\n",
       "      <td>256</td>\n",
       "      <td>5000</td>\n",
       "      <td>50</td>\n",
       "      <td>50</td>\n",
       "      <td>48</td>\n",
       "      <td>16</td>\n",
       "      <td>6.70</td>\n",
       "    </tr>\n",
       "    <tr>\n",
       "      <th>1</th>\n",
       "      <td>6.59 inches, 1080 x 2412 px, 120 Hz Display wi...</td>\n",
       "      <td>Android v12</td>\n",
       "      <td>OnePlus</td>\n",
       "      <td>19989</td>\n",
       "      <td>Snapdragon 695</td>\n",
       "      <td>6</td>\n",
       "      <td>128</td>\n",
       "      <td>5000</td>\n",
       "      <td>64</td>\n",
       "      <td>64</td>\n",
       "      <td>2</td>\n",
       "      <td>16</td>\n",
       "      <td>6.59</td>\n",
       "    </tr>\n",
       "    <tr>\n",
       "      <th>2</th>\n",
       "      <td>6.6 inches, 1080 x 2408 px, 90 Hz Display with...</td>\n",
       "      <td>Android v13</td>\n",
       "      <td>Samsung</td>\n",
       "      <td>16499</td>\n",
       "      <td>Exynos processors</td>\n",
       "      <td>4</td>\n",
       "      <td>64</td>\n",
       "      <td>5000</td>\n",
       "      <td>50</td>\n",
       "      <td>50</td>\n",
       "      <td>2</td>\n",
       "      <td>13</td>\n",
       "      <td>6.60</td>\n",
       "    </tr>\n",
       "    <tr>\n",
       "      <th>3</th>\n",
       "      <td>6.55 inches, 1080 x 2400 px, 120 Hz Display wi...</td>\n",
       "      <td>Android v12</td>\n",
       "      <td>Motorola</td>\n",
       "      <td>14999</td>\n",
       "      <td>Snapdragon 695</td>\n",
       "      <td>6</td>\n",
       "      <td>128</td>\n",
       "      <td>5000</td>\n",
       "      <td>50</td>\n",
       "      <td>50</td>\n",
       "      <td>8</td>\n",
       "      <td>16</td>\n",
       "      <td>6.55</td>\n",
       "    </tr>\n",
       "    <tr>\n",
       "      <th>4</th>\n",
       "      <td>6.7 inches, 1080 x 2412 px, 120 Hz Display wit...</td>\n",
       "      <td>Android v13</td>\n",
       "      <td>Realme</td>\n",
       "      <td>24999</td>\n",
       "      <td>Other Dimensity Processors</td>\n",
       "      <td>6</td>\n",
       "      <td>128</td>\n",
       "      <td>5000</td>\n",
       "      <td>108</td>\n",
       "      <td>108</td>\n",
       "      <td>8</td>\n",
       "      <td>16</td>\n",
       "      <td>6.70</td>\n",
       "    </tr>\n",
       "  </tbody>\n",
       "</table>\n",
       "</div>"
      ],
      "text/plain": [
       "                                             display           os     Brand  \\\n",
       "0  6.7 inches, 1440 x 3216 px, 120 Hz Display wit...  Android v13   OnePlus   \n",
       "1  6.59 inches, 1080 x 2412 px, 120 Hz Display wi...  Android v12   OnePlus   \n",
       "2  6.6 inches, 1080 x 2408 px, 90 Hz Display with...  Android v13   Samsung   \n",
       "3  6.55 inches, 1080 x 2400 px, 120 Hz Display wi...  Android v12  Motorola   \n",
       "4  6.7 inches, 1080 x 2412 px, 120 Hz Display wit...  Android v13    Realme   \n",
       "\n",
       "   Price(In Rupees)                   Processor  RAM(GB)  ROM(GB)  \\\n",
       "0             54999           Snapdragon 8 Gen2       12      256   \n",
       "1             19989              Snapdragon 695        6      128   \n",
       "2             16499           Exynos processors        4       64   \n",
       "3             14999              Snapdragon 695        6      128   \n",
       "4             24999  Other Dimensity Processors        6      128   \n",
       "\n",
       "   Battery(mAh)  Primary_Rear_Camera(MP)  Secondary_Rear_Camera1(MP)  \\\n",
       "0          5000                       50                          50   \n",
       "1          5000                       64                          64   \n",
       "2          5000                       50                          50   \n",
       "3          5000                       50                          50   \n",
       "4          5000                      108                         108   \n",
       "\n",
       "   Secondary_Rear_Camera2(MP)  Front_Camera(MP)  Display(inches)  \n",
       "0                          48                16             6.70  \n",
       "1                           2                16             6.59  \n",
       "2                           2                13             6.60  \n",
       "3                           8                16             6.55  \n",
       "4                           8                16             6.70  "
      ]
     },
     "execution_count": 63,
     "metadata": {},
     "output_type": "execute_result"
    }
   ],
   "source": [
    "df.head()"
   ]
  },
  {
   "cell_type": "code",
   "execution_count": 64,
   "id": "3d75dc1c",
   "metadata": {},
   "outputs": [
    {
     "name": "stdout",
     "output_type": "stream",
     "text": [
      "<class 'pandas.core.frame.DataFrame'>\n",
      "Int64Index: 1019 entries, 0 to 1019\n",
      "Data columns (total 13 columns):\n",
      " #   Column                      Non-Null Count  Dtype  \n",
      "---  ------                      --------------  -----  \n",
      " 0   display                     1019 non-null   object \n",
      " 1   os                          1003 non-null   object \n",
      " 2   Brand                       1019 non-null   object \n",
      " 3   Price(In Rupees)            1019 non-null   int32  \n",
      " 4   Processor                   1019 non-null   object \n",
      " 5   RAM(GB)                     982 non-null    Int64  \n",
      " 6   ROM(GB)                     979 non-null    Int64  \n",
      " 7   Battery(mAh)                987 non-null    Int64  \n",
      " 8   Primary_Rear_Camera(MP)     1019 non-null   int32  \n",
      " 9   Secondary_Rear_Camera1(MP)  1019 non-null   int32  \n",
      " 10  Secondary_Rear_Camera2(MP)  1019 non-null   int32  \n",
      " 11  Front_Camera(MP)            1019 non-null   int32  \n",
      " 12  Display(inches)             967 non-null    float64\n",
      "dtypes: Int64(3), float64(1), int32(5), object(4)\n",
      "memory usage: 94.5+ KB\n"
     ]
    }
   ],
   "source": [
    "df.info()"
   ]
  },
  {
   "cell_type": "code",
   "execution_count": 65,
   "id": "dae0346e",
   "metadata": {},
   "outputs": [],
   "source": [
    "# Fill missing display size values with the mode\n",
    "most_frequent_display_size = df['Display(inches)'].mode()[0]\n",
    "df['Display(inches)'].fillna(most_frequent_display_size, inplace=True)\n"
   ]
  },
  {
   "cell_type": "code",
   "execution_count": 66,
   "id": "8db0bb1e",
   "metadata": {},
   "outputs": [],
   "source": [
    "def calculate_ppi(display_resolution, display_size):\n",
    "    # Extract width and height values from display resolution\n",
    "    match = re.search(r'(\\d+)\\s*x\\s*(\\d+)\\s*px', display_resolution)\n",
    "    if match:\n",
    "        width = int(match.group(1))\n",
    "        height = int(match.group(2))\n",
    "    else:\n",
    "        return None\n",
    "\n",
    "    # Extract the numerical value from the display size\n",
    "    match = re.search(r'(\\d+\\.?\\d*)\\s*inches?', display_size)\n",
    "    if match:\n",
    "        diagonal_size = float(match.group(1))\n",
    "    else:\n",
    "        return None\n",
    "\n",
    "    # Calculate PPI\n",
    "    ppi = ((width ** 2) + (height ** 2)) ** 0.5 / diagonal_size\n",
    "\n",
    "    return ppi\n",
    "\n",
    "# Apply the custom function to the 'display' column\n",
    "df['PPI'] = df.apply(lambda row: calculate_ppi(row['display'], row['display']), axis=1)"
   ]
  },
  {
   "cell_type": "code",
   "execution_count": 67,
   "id": "fde23fe0",
   "metadata": {},
   "outputs": [],
   "source": [
    "df.drop('display',axis=1,inplace=True)"
   ]
  },
  {
   "cell_type": "code",
   "execution_count": null,
   "id": "1532b7f2",
   "metadata": {},
   "outputs": [],
   "source": []
  },
  {
   "cell_type": "code",
   "execution_count": 68,
   "id": "e121f4e8",
   "metadata": {},
   "outputs": [
    {
     "data": {
      "text/plain": [
       "Android v12                           287\n",
       "Android v11                           233\n",
       "No FM Radio                           192\n",
       "Android v10                            58\n",
       "Android v13                            45\n",
       "Bluetooth                              38\n",
       "Android v9.0 (Pie)                     27\n",
       "Android v10.0                          22\n",
       "iOS v16                                14\n",
       "Android v8.1 (Oreo)                    10\n",
       "iOS v15                                10\n",
       "Memory Card Not Supported               6\n",
       "Browser                                 4\n",
       "Android v11.0                           4\n",
       "Android v8.0 (Oreo)                     4\n",
       "Memory Card Supported, upto 32 GB       3\n",
       "iOS v13                                 3\n",
       "iOS v15.0                               3\n",
       "Android v6.0 (Marshmallow)              3\n",
       "Memory Card (Hybrid), upto 256 GB       2\n",
       "RTOS (Series 30+)                       2\n",
       "Memory Card Supported, upto 256 GB      2\n",
       "EMUI v12                                2\n",
       "Android v5.1.1 (Lollipop)               2\n",
       "Harmony v2.0                            2\n",
       "Memory Card Supported, upto 64 GB       2\n",
       "Memory Card (Hybrid), upto 2 TB         2\n",
       "iOS v17                                 1\n",
       "Android v4.4.2 (KitKat)                 1\n",
       "Android v12.1                           1\n",
       "iOS v12.3                               1\n",
       "Memory Card Supported                   1\n",
       "0.3 MP Rear Camera                      1\n",
       "HarmonyOS v2.0                          1\n",
       "HarmonyOS v2                            1\n",
       "Memory Card (Hybrid)                    1\n",
       "Pragati OS (Powered by Android)         1\n",
       "Memory Card Supported, upto 128 GB      1\n",
       "Hongmeng OS v3.0                        1\n",
       "1.3 MP Rear Camera                      1\n",
       "iOS v13.0                               1\n",
       "Memory Card Supported, upto 16 GB       1\n",
       "Android v9 (Pie)                        1\n",
       "Android v5.1 (Lollipop)                 1\n",
       "KAI OS                                  1\n",
       "Android v7.1 (Nougat)                   1\n",
       "Android                                 1\n",
       "Hongmeng OS v4.0                        1\n",
       "Name: os, dtype: int64"
      ]
     },
     "execution_count": 68,
     "metadata": {},
     "output_type": "execute_result"
    }
   ],
   "source": [
    "# os column\n",
    "\n",
    "df['os'].value_counts()"
   ]
  },
  {
   "cell_type": "code",
   "execution_count": 69,
   "id": "94df1995",
   "metadata": {},
   "outputs": [],
   "source": [
    "most_frequent_os = df['os'].mode()[0]\n",
    "df['os'].fillna(most_frequent_os, inplace=True)"
   ]
  },
  {
   "cell_type": "code",
   "execution_count": 70,
   "id": "53d9a69c",
   "metadata": {},
   "outputs": [
    {
     "name": "stdout",
     "output_type": "stream",
     "text": [
      "Android v12                               303\n",
      "Android v11                               237\n",
      "No FM Radio                               192\n",
      "Android v10                                80\n",
      "Android v13                                45\n",
      "Bluetooth                                  38\n",
      "Android v9                                 28\n",
      "iOS v16                                    14\n",
      "iOS v15                                    13\n",
      "Android v8.1                               10\n",
      "Memory Card Not Supported                   6\n",
      "Browser                                     4\n",
      "iOS v13                                     4\n",
      "Android v8                                  4\n",
      "Memory Card Supported, upto 32 GBv32        3\n",
      "Android v5.1                                3\n",
      "Android v6                                  3\n",
      "EMUI v12                                    2\n",
      "RTOS (Series 30+)v30                        2\n",
      "Memory Card Supported, upto 256 GBv256      2\n",
      "Memory Card Supported, upto 64 GBv64        2\n",
      "Memory Card (Hybrid), upto 256 GBv256       2\n",
      "HarmonyOS v2                                2\n",
      "Harmony v2                                  2\n",
      "Memory Card (Hybrid), upto 2 TBv2           2\n",
      "iOS v17                                     1\n",
      "Android v7.1                                1\n",
      "Memory Card Supported, upto 16 GBv16        1\n",
      "0.3 MP Rear Camerav0.3                      1\n",
      "Memory Card Supported, upto 128 GBv128      1\n",
      "Pragati OS (Powered by Android)             1\n",
      "Android                                     1\n",
      "1.3 MP Rear Camerav1.3                      1\n",
      "Memory Card (Hybrid)                        1\n",
      "Hongmeng OS v3                              1\n",
      "Android v12.1                               1\n",
      "KAI OS                                      1\n",
      "Memory Card Supported                       1\n",
      "iOS v12.3                                   1\n",
      "Hongmeng OS v4                              1\n",
      "Android v4.4                                1\n",
      "Name: os_standardized, dtype: int64\n"
     ]
    }
   ],
   "source": [
    "import pandas as pd\n",
    "import re\n",
    "\n",
    "\n",
    "\n",
    "\n",
    "# Function to standardize OS versions\n",
    "def standardize_os_version(version):\n",
    "    match = re.search(r'(\\d+)\\.?(\\d*)', version)\n",
    "    if match:\n",
    "        major_version = int(match.group(1))\n",
    "        minor_version = int(match.group(2)) if match.group(2) else 0\n",
    "        if minor_version == 0:\n",
    "            return f'{version.split(\"v\")[0]}v{major_version}'\n",
    "        else:\n",
    "            return f'{version.split(\"v\")[0]}v{major_version}.{minor_version}'\n",
    "    else:\n",
    "        return version\n",
    "\n",
    "# Apply the function to the 'os' column and create a new column 'os_standardized'\n",
    "df['os_standardized'] = df['os'].apply(standardize_os_version)\n",
    "\n",
    "# Count the occurrences of each standardized OS version\n",
    "counted_versions = df['os_standardized'].value_counts()\n",
    "\n",
    "print(counted_versions)\n"
   ]
  },
  {
   "cell_type": "code",
   "execution_count": 71,
   "id": "88c3ef6e",
   "metadata": {},
   "outputs": [],
   "source": [
    "def extract_os_versions(text):\n",
    "    if text==\"Android v12\" or text==\"Android v11\" or text==\"Android v10\" or text==\"Android v13\" or text==\"Android v9\" or text==\"Android v16\" or text==\"Android v15\" or text==\"Android 8.1\":\n",
    "        return text\n",
    "    elif text==\"iOS v16\" or text==\"iOS v15\":\n",
    "        return text\n",
    "    else:\n",
    "        if text.split()[0] == 'Android':\n",
    "            return \"Other Android OS\"\n",
    "        elif text.split()[0] == 'iOS':\n",
    "            return \"Other iOS\"\n",
    "        else:\n",
    "            return \"Other OS versions\"\n"
   ]
  },
  {
   "cell_type": "code",
   "execution_count": 72,
   "id": "1c4718a8",
   "metadata": {},
   "outputs": [],
   "source": [
    "df['OS'] = df['os_standardized'].apply(extract_os_versions)"
   ]
  },
  {
   "cell_type": "code",
   "execution_count": 73,
   "id": "99f0ce85",
   "metadata": {},
   "outputs": [
    {
     "data": {
      "text/html": [
       "<div>\n",
       "<style scoped>\n",
       "    .dataframe tbody tr th:only-of-type {\n",
       "        vertical-align: middle;\n",
       "    }\n",
       "\n",
       "    .dataframe tbody tr th {\n",
       "        vertical-align: top;\n",
       "    }\n",
       "\n",
       "    .dataframe thead th {\n",
       "        text-align: right;\n",
       "    }\n",
       "</style>\n",
       "<table border=\"1\" class=\"dataframe\">\n",
       "  <thead>\n",
       "    <tr style=\"text-align: right;\">\n",
       "      <th></th>\n",
       "      <th>os</th>\n",
       "      <th>Brand</th>\n",
       "      <th>Price(In Rupees)</th>\n",
       "      <th>Processor</th>\n",
       "      <th>RAM(GB)</th>\n",
       "      <th>ROM(GB)</th>\n",
       "      <th>Battery(mAh)</th>\n",
       "      <th>Primary_Rear_Camera(MP)</th>\n",
       "      <th>Secondary_Rear_Camera1(MP)</th>\n",
       "      <th>Secondary_Rear_Camera2(MP)</th>\n",
       "      <th>Front_Camera(MP)</th>\n",
       "      <th>Display(inches)</th>\n",
       "      <th>PPI</th>\n",
       "      <th>os_standardized</th>\n",
       "      <th>OS</th>\n",
       "    </tr>\n",
       "  </thead>\n",
       "  <tbody>\n",
       "    <tr>\n",
       "      <th>628</th>\n",
       "      <td>No FM Radio</td>\n",
       "      <td>Apple</td>\n",
       "      <td>139900</td>\n",
       "      <td>Other Bionic Processors</td>\n",
       "      <td>6</td>\n",
       "      <td>512</td>\n",
       "      <td>&lt;NA&gt;</td>\n",
       "      <td>0</td>\n",
       "      <td>0</td>\n",
       "      <td>0</td>\n",
       "      <td>0</td>\n",
       "      <td>6.50</td>\n",
       "      <td>NaN</td>\n",
       "      <td>No FM Radio</td>\n",
       "      <td>Other OS versions</td>\n",
       "    </tr>\n",
       "    <tr>\n",
       "      <th>675</th>\n",
       "      <td>Android v11</td>\n",
       "      <td>Xiaomi</td>\n",
       "      <td>16999</td>\n",
       "      <td>Other Dimensity Processors</td>\n",
       "      <td>6</td>\n",
       "      <td>128</td>\n",
       "      <td>5000</td>\n",
       "      <td>64</td>\n",
       "      <td>64</td>\n",
       "      <td>8</td>\n",
       "      <td>16</td>\n",
       "      <td>6.60</td>\n",
       "      <td>398.758404</td>\n",
       "      <td>Android v11</td>\n",
       "      <td>Android v11</td>\n",
       "    </tr>\n",
       "    <tr>\n",
       "      <th>526</th>\n",
       "      <td>Bluetooth</td>\n",
       "      <td>Realme</td>\n",
       "      <td>49959</td>\n",
       "      <td>Snapdragon 8 Gen1</td>\n",
       "      <td>8</td>\n",
       "      <td>128</td>\n",
       "      <td>5000</td>\n",
       "      <td>50</td>\n",
       "      <td>50</td>\n",
       "      <td>50</td>\n",
       "      <td>32</td>\n",
       "      <td>6.70</td>\n",
       "      <td>525.921017</td>\n",
       "      <td>Bluetooth</td>\n",
       "      <td>Other OS versions</td>\n",
       "    </tr>\n",
       "    <tr>\n",
       "      <th>112</th>\n",
       "      <td>Bluetooth</td>\n",
       "      <td>Xiaomi</td>\n",
       "      <td>22999</td>\n",
       "      <td>Other Dimensity Processors</td>\n",
       "      <td>6</td>\n",
       "      <td>128</td>\n",
       "      <td>5080</td>\n",
       "      <td>64</td>\n",
       "      <td>64</td>\n",
       "      <td>8</td>\n",
       "      <td>16</td>\n",
       "      <td>6.60</td>\n",
       "      <td>407.065694</td>\n",
       "      <td>Bluetooth</td>\n",
       "      <td>Other OS versions</td>\n",
       "    </tr>\n",
       "    <tr>\n",
       "      <th>843</th>\n",
       "      <td>No FM Radio</td>\n",
       "      <td>Xiaomi</td>\n",
       "      <td>42990</td>\n",
       "      <td>Snapdragon 8 Gen1</td>\n",
       "      <td>8</td>\n",
       "      <td>128</td>\n",
       "      <td>4500</td>\n",
       "      <td>50</td>\n",
       "      <td>50</td>\n",
       "      <td>13</td>\n",
       "      <td>32</td>\n",
       "      <td>6.28</td>\n",
       "      <td>419.077303</td>\n",
       "      <td>No FM Radio</td>\n",
       "      <td>Other OS versions</td>\n",
       "    </tr>\n",
       "  </tbody>\n",
       "</table>\n",
       "</div>"
      ],
      "text/plain": [
       "              os   Brand  Price(In Rupees)                   Processor  \\\n",
       "628  No FM Radio   Apple            139900     Other Bionic Processors   \n",
       "675  Android v11  Xiaomi             16999  Other Dimensity Processors   \n",
       "526    Bluetooth  Realme             49959           Snapdragon 8 Gen1   \n",
       "112    Bluetooth  Xiaomi             22999  Other Dimensity Processors   \n",
       "843  No FM Radio  Xiaomi             42990           Snapdragon 8 Gen1   \n",
       "\n",
       "     RAM(GB)  ROM(GB)  Battery(mAh)  Primary_Rear_Camera(MP)  \\\n",
       "628        6      512          <NA>                        0   \n",
       "675        6      128          5000                       64   \n",
       "526        8      128          5000                       50   \n",
       "112        6      128          5080                       64   \n",
       "843        8      128          4500                       50   \n",
       "\n",
       "     Secondary_Rear_Camera1(MP)  Secondary_Rear_Camera2(MP)  Front_Camera(MP)  \\\n",
       "628                           0                           0                 0   \n",
       "675                          64                           8                16   \n",
       "526                          50                          50                32   \n",
       "112                          64                           8                16   \n",
       "843                          50                          13                32   \n",
       "\n",
       "     Display(inches)         PPI os_standardized                 OS  \n",
       "628             6.50         NaN     No FM Radio  Other OS versions  \n",
       "675             6.60  398.758404     Android v11        Android v11  \n",
       "526             6.70  525.921017       Bluetooth  Other OS versions  \n",
       "112             6.60  407.065694       Bluetooth  Other OS versions  \n",
       "843             6.28  419.077303     No FM Radio  Other OS versions  "
      ]
     },
     "execution_count": 73,
     "metadata": {},
     "output_type": "execute_result"
    }
   ],
   "source": [
    "df.sample(5)"
   ]
  },
  {
   "cell_type": "code",
   "execution_count": 74,
   "id": "f66ab0c0",
   "metadata": {},
   "outputs": [
    {
     "data": {
      "text/plain": [
       "Android v12          303\n",
       "Other OS versions    269\n",
       "Android v11          237\n",
       "Android v10           80\n",
       "Android v13           45\n",
       "Android v9            28\n",
       "Other Android OS      24\n",
       "iOS v16               14\n",
       "iOS v15               13\n",
       "Other iOS              6\n",
       "Name: OS, dtype: int64"
      ]
     },
     "execution_count": 74,
     "metadata": {},
     "output_type": "execute_result"
    }
   ],
   "source": [
    "df['OS'].value_counts()"
   ]
  },
  {
   "cell_type": "code",
   "execution_count": 75,
   "id": "f610da34",
   "metadata": {},
   "outputs": [],
   "source": [
    "df.drop(columns=['os','os_standardized'],axis=1,inplace=True)"
   ]
  },
  {
   "cell_type": "code",
   "execution_count": 76,
   "id": "bf2b43b2",
   "metadata": {},
   "outputs": [
    {
     "data": {
      "text/html": [
       "<div>\n",
       "<style scoped>\n",
       "    .dataframe tbody tr th:only-of-type {\n",
       "        vertical-align: middle;\n",
       "    }\n",
       "\n",
       "    .dataframe tbody tr th {\n",
       "        vertical-align: top;\n",
       "    }\n",
       "\n",
       "    .dataframe thead th {\n",
       "        text-align: right;\n",
       "    }\n",
       "</style>\n",
       "<table border=\"1\" class=\"dataframe\">\n",
       "  <thead>\n",
       "    <tr style=\"text-align: right;\">\n",
       "      <th></th>\n",
       "      <th>Brand</th>\n",
       "      <th>Price(In Rupees)</th>\n",
       "      <th>Processor</th>\n",
       "      <th>RAM(GB)</th>\n",
       "      <th>ROM(GB)</th>\n",
       "      <th>Battery(mAh)</th>\n",
       "      <th>Primary_Rear_Camera(MP)</th>\n",
       "      <th>Secondary_Rear_Camera1(MP)</th>\n",
       "      <th>Secondary_Rear_Camera2(MP)</th>\n",
       "      <th>Front_Camera(MP)</th>\n",
       "      <th>Display(inches)</th>\n",
       "      <th>PPI</th>\n",
       "      <th>OS</th>\n",
       "    </tr>\n",
       "  </thead>\n",
       "  <tbody>\n",
       "    <tr>\n",
       "      <th>0</th>\n",
       "      <td>OnePlus</td>\n",
       "      <td>54999</td>\n",
       "      <td>Snapdragon 8 Gen2</td>\n",
       "      <td>12</td>\n",
       "      <td>256</td>\n",
       "      <td>5000</td>\n",
       "      <td>50</td>\n",
       "      <td>50</td>\n",
       "      <td>48</td>\n",
       "      <td>16</td>\n",
       "      <td>6.70</td>\n",
       "      <td>525.921017</td>\n",
       "      <td>Android v13</td>\n",
       "    </tr>\n",
       "    <tr>\n",
       "      <th>1</th>\n",
       "      <td>OnePlus</td>\n",
       "      <td>19989</td>\n",
       "      <td>Snapdragon 695</td>\n",
       "      <td>6</td>\n",
       "      <td>128</td>\n",
       "      <td>5000</td>\n",
       "      <td>64</td>\n",
       "      <td>64</td>\n",
       "      <td>2</td>\n",
       "      <td>16</td>\n",
       "      <td>6.59</td>\n",
       "      <td>401.024751</td>\n",
       "      <td>Android v12</td>\n",
       "    </tr>\n",
       "    <tr>\n",
       "      <th>2</th>\n",
       "      <td>Samsung</td>\n",
       "      <td>16499</td>\n",
       "      <td>Exynos processors</td>\n",
       "      <td>4</td>\n",
       "      <td>64</td>\n",
       "      <td>5000</td>\n",
       "      <td>50</td>\n",
       "      <td>50</td>\n",
       "      <td>2</td>\n",
       "      <td>13</td>\n",
       "      <td>6.60</td>\n",
       "      <td>399.864072</td>\n",
       "      <td>Android v13</td>\n",
       "    </tr>\n",
       "    <tr>\n",
       "      <th>3</th>\n",
       "      <td>Motorola</td>\n",
       "      <td>14999</td>\n",
       "      <td>Snapdragon 695</td>\n",
       "      <td>6</td>\n",
       "      <td>128</td>\n",
       "      <td>5000</td>\n",
       "      <td>50</td>\n",
       "      <td>50</td>\n",
       "      <td>8</td>\n",
       "      <td>16</td>\n",
       "      <td>6.55</td>\n",
       "      <td>401.802361</td>\n",
       "      <td>Android v12</td>\n",
       "    </tr>\n",
       "    <tr>\n",
       "      <th>4</th>\n",
       "      <td>Realme</td>\n",
       "      <td>24999</td>\n",
       "      <td>Other Dimensity Processors</td>\n",
       "      <td>6</td>\n",
       "      <td>128</td>\n",
       "      <td>5000</td>\n",
       "      <td>108</td>\n",
       "      <td>108</td>\n",
       "      <td>8</td>\n",
       "      <td>16</td>\n",
       "      <td>6.70</td>\n",
       "      <td>394.440763</td>\n",
       "      <td>Android v13</td>\n",
       "    </tr>\n",
       "    <tr>\n",
       "      <th>...</th>\n",
       "      <td>...</td>\n",
       "      <td>...</td>\n",
       "      <td>...</td>\n",
       "      <td>...</td>\n",
       "      <td>...</td>\n",
       "      <td>...</td>\n",
       "      <td>...</td>\n",
       "      <td>...</td>\n",
       "      <td>...</td>\n",
       "      <td>...</td>\n",
       "      <td>...</td>\n",
       "      <td>...</td>\n",
       "      <td>...</td>\n",
       "    </tr>\n",
       "    <tr>\n",
       "      <th>1015</th>\n",
       "      <td>Motorola</td>\n",
       "      <td>34990</td>\n",
       "      <td>Snapdragon 8 Gen1</td>\n",
       "      <td>8</td>\n",
       "      <td>128</td>\n",
       "      <td>5000</td>\n",
       "      <td>64</td>\n",
       "      <td>64</td>\n",
       "      <td>8</td>\n",
       "      <td>16</td>\n",
       "      <td>6.67</td>\n",
       "      <td>402.793640</td>\n",
       "      <td>Other OS versions</td>\n",
       "    </tr>\n",
       "    <tr>\n",
       "      <th>1016</th>\n",
       "      <td>Honor</td>\n",
       "      <td>14990</td>\n",
       "      <td>Other Snapdragon Processors</td>\n",
       "      <td>6</td>\n",
       "      <td>128</td>\n",
       "      <td>5000</td>\n",
       "      <td>48</td>\n",
       "      <td>48</td>\n",
       "      <td>2</td>\n",
       "      <td>8</td>\n",
       "      <td>6.50</td>\n",
       "      <td>269.928766</td>\n",
       "      <td>Android v11</td>\n",
       "    </tr>\n",
       "    <tr>\n",
       "      <th>1017</th>\n",
       "      <td>POCO</td>\n",
       "      <td>28990</td>\n",
       "      <td>Other Dimensity Processors</td>\n",
       "      <td>8</td>\n",
       "      <td>256</td>\n",
       "      <td>5080</td>\n",
       "      <td>64</td>\n",
       "      <td>64</td>\n",
       "      <td>8</td>\n",
       "      <td>16</td>\n",
       "      <td>6.60</td>\n",
       "      <td>407.065694</td>\n",
       "      <td>Android v12</td>\n",
       "    </tr>\n",
       "    <tr>\n",
       "      <th>1018</th>\n",
       "      <td>Motorola</td>\n",
       "      <td>19990</td>\n",
       "      <td>Snapdragon 695</td>\n",
       "      <td>6</td>\n",
       "      <td>128</td>\n",
       "      <td>5000</td>\n",
       "      <td>108</td>\n",
       "      <td>108</td>\n",
       "      <td>8</td>\n",
       "      <td>32</td>\n",
       "      <td>6.80</td>\n",
       "      <td>387.030215</td>\n",
       "      <td>Android v12</td>\n",
       "    </tr>\n",
       "    <tr>\n",
       "      <th>1019</th>\n",
       "      <td>Samsung</td>\n",
       "      <td>24990</td>\n",
       "      <td>Other Processors</td>\n",
       "      <td>8</td>\n",
       "      <td>128</td>\n",
       "      <td>5000</td>\n",
       "      <td>64</td>\n",
       "      <td>64</td>\n",
       "      <td>8</td>\n",
       "      <td>32</td>\n",
       "      <td>6.50</td>\n",
       "      <td>404.893148</td>\n",
       "      <td>Android v12</td>\n",
       "    </tr>\n",
       "  </tbody>\n",
       "</table>\n",
       "<p>1019 rows × 13 columns</p>\n",
       "</div>"
      ],
      "text/plain": [
       "         Brand  Price(In Rupees)                    Processor  RAM(GB)  \\\n",
       "0      OnePlus             54999            Snapdragon 8 Gen2       12   \n",
       "1      OnePlus             19989               Snapdragon 695        6   \n",
       "2      Samsung             16499            Exynos processors        4   \n",
       "3     Motorola             14999               Snapdragon 695        6   \n",
       "4       Realme             24999   Other Dimensity Processors        6   \n",
       "...        ...               ...                          ...      ...   \n",
       "1015  Motorola             34990            Snapdragon 8 Gen1        8   \n",
       "1016     Honor             14990  Other Snapdragon Processors        6   \n",
       "1017      POCO             28990   Other Dimensity Processors        8   \n",
       "1018  Motorola             19990               Snapdragon 695        6   \n",
       "1019   Samsung             24990             Other Processors        8   \n",
       "\n",
       "      ROM(GB)  Battery(mAh)  Primary_Rear_Camera(MP)  \\\n",
       "0         256          5000                       50   \n",
       "1         128          5000                       64   \n",
       "2          64          5000                       50   \n",
       "3         128          5000                       50   \n",
       "4         128          5000                      108   \n",
       "...       ...           ...                      ...   \n",
       "1015      128          5000                       64   \n",
       "1016      128          5000                       48   \n",
       "1017      256          5080                       64   \n",
       "1018      128          5000                      108   \n",
       "1019      128          5000                       64   \n",
       "\n",
       "      Secondary_Rear_Camera1(MP)  Secondary_Rear_Camera2(MP)  \\\n",
       "0                             50                          48   \n",
       "1                             64                           2   \n",
       "2                             50                           2   \n",
       "3                             50                           8   \n",
       "4                            108                           8   \n",
       "...                          ...                         ...   \n",
       "1015                          64                           8   \n",
       "1016                          48                           2   \n",
       "1017                          64                           8   \n",
       "1018                         108                           8   \n",
       "1019                          64                           8   \n",
       "\n",
       "      Front_Camera(MP)  Display(inches)         PPI                 OS  \n",
       "0                   16             6.70  525.921017        Android v13  \n",
       "1                   16             6.59  401.024751        Android v12  \n",
       "2                   13             6.60  399.864072        Android v13  \n",
       "3                   16             6.55  401.802361        Android v12  \n",
       "4                   16             6.70  394.440763        Android v13  \n",
       "...                ...              ...         ...                ...  \n",
       "1015                16             6.67  402.793640  Other OS versions  \n",
       "1016                 8             6.50  269.928766        Android v11  \n",
       "1017                16             6.60  407.065694        Android v12  \n",
       "1018                32             6.80  387.030215        Android v12  \n",
       "1019                32             6.50  404.893148        Android v12  \n",
       "\n",
       "[1019 rows x 13 columns]"
      ]
     },
     "execution_count": 76,
     "metadata": {},
     "output_type": "execute_result"
    }
   ],
   "source": [
    "df"
   ]
  },
  {
   "cell_type": "code",
   "execution_count": 77,
   "id": "b1db2ae6",
   "metadata": {},
   "outputs": [
    {
     "name": "stdout",
     "output_type": "stream",
     "text": [
      "<class 'pandas.core.frame.DataFrame'>\n",
      "Int64Index: 1019 entries, 0 to 1019\n",
      "Data columns (total 13 columns):\n",
      " #   Column                      Non-Null Count  Dtype  \n",
      "---  ------                      --------------  -----  \n",
      " 0   Brand                       1019 non-null   object \n",
      " 1   Price(In Rupees)            1019 non-null   int32  \n",
      " 2   Processor                   1019 non-null   object \n",
      " 3   RAM(GB)                     982 non-null    Int64  \n",
      " 4   ROM(GB)                     979 non-null    Int64  \n",
      " 5   Battery(mAh)                987 non-null    Int64  \n",
      " 6   Primary_Rear_Camera(MP)     1019 non-null   int32  \n",
      " 7   Secondary_Rear_Camera1(MP)  1019 non-null   int32  \n",
      " 8   Secondary_Rear_Camera2(MP)  1019 non-null   int32  \n",
      " 9   Front_Camera(MP)            1019 non-null   int32  \n",
      " 10  Display(inches)             1019 non-null   float64\n",
      " 11  PPI                         987 non-null    float64\n",
      " 12  OS                          1019 non-null   object \n",
      "dtypes: Int64(3), float64(2), int32(5), object(3)\n",
      "memory usage: 94.5+ KB\n"
     ]
    }
   ],
   "source": [
    "df.info()"
   ]
  },
  {
   "cell_type": "code",
   "execution_count": 78,
   "id": "1f928bad",
   "metadata": {},
   "outputs": [
    {
     "data": {
      "text/plain": [
       "Brand                          0\n",
       "Price(In Rupees)               0\n",
       "Processor                      0\n",
       "RAM(GB)                       37\n",
       "ROM(GB)                       40\n",
       "Battery(mAh)                  32\n",
       "Primary_Rear_Camera(MP)        0\n",
       "Secondary_Rear_Camera1(MP)     0\n",
       "Secondary_Rear_Camera2(MP)     0\n",
       "Front_Camera(MP)               0\n",
       "Display(inches)                0\n",
       "PPI                           32\n",
       "OS                             0\n",
       "dtype: int64"
      ]
     },
     "execution_count": 78,
     "metadata": {},
     "output_type": "execute_result"
    }
   ],
   "source": [
    "df.isnull().sum()"
   ]
  },
  {
   "cell_type": "code",
   "execution_count": 79,
   "id": "4808a023",
   "metadata": {},
   "outputs": [],
   "source": [
    "most_frequent_RAM = df['RAM(GB)'].mode()[0]\n",
    "df['RAM(GB)'].fillna(most_frequent_RAM, inplace=True)"
   ]
  },
  {
   "cell_type": "code",
   "execution_count": 80,
   "id": "c0bd3c6e",
   "metadata": {},
   "outputs": [],
   "source": [
    "most_frequent_ROM = df['ROM(GB)'].mode()[0]\n",
    "df['ROM(GB)'].fillna(most_frequent_RAM, inplace=True)"
   ]
  },
  {
   "cell_type": "code",
   "execution_count": 81,
   "id": "43ba3b45",
   "metadata": {},
   "outputs": [],
   "source": [
    "most_frequent_battery = df['Battery(mAh)'].mode()[0]\n",
    "df['Battery(mAh)'].fillna(most_frequent_battery, inplace=True)"
   ]
  },
  {
   "cell_type": "code",
   "execution_count": 82,
   "id": "ca1f9790",
   "metadata": {},
   "outputs": [],
   "source": [
    "df['PPI']= df['PPI'].fillna(df['PPI'].mean())"
   ]
  },
  {
   "cell_type": "code",
   "execution_count": 83,
   "id": "00102ffa",
   "metadata": {},
   "outputs": [
    {
     "data": {
      "text/plain": [
       "Brand                         0\n",
       "Price(In Rupees)              0\n",
       "Processor                     0\n",
       "RAM(GB)                       0\n",
       "ROM(GB)                       0\n",
       "Battery(mAh)                  0\n",
       "Primary_Rear_Camera(MP)       0\n",
       "Secondary_Rear_Camera1(MP)    0\n",
       "Secondary_Rear_Camera2(MP)    0\n",
       "Front_Camera(MP)              0\n",
       "Display(inches)               0\n",
       "PPI                           0\n",
       "OS                            0\n",
       "dtype: int64"
      ]
     },
     "execution_count": 83,
     "metadata": {},
     "output_type": "execute_result"
    }
   ],
   "source": [
    "df.isnull().sum()"
   ]
  },
  {
   "cell_type": "code",
   "execution_count": 84,
   "id": "5e3d0226",
   "metadata": {},
   "outputs": [],
   "source": [
    "\n",
    "rows_to_delete = [483, 439, 762]\n",
    "\n",
    "# Drop the specified rows using the 'rows_to_delete' list\n",
    "df.drop(rows_to_delete, inplace=True)\n"
   ]
  },
  {
   "cell_type": "markdown",
   "id": "fdc21dda",
   "metadata": {},
   "source": [
    "# Visulaization"
   ]
  },
  {
   "cell_type": "code",
   "execution_count": 85,
   "id": "f6953e0a",
   "metadata": {},
   "outputs": [
    {
     "name": "stderr",
     "output_type": "stream",
     "text": [
      "C:\\FAIZUL\\lib\\site-packages\\seaborn\\distributions.py:2557: FutureWarning: `distplot` is a deprecated function and will be removed in a future version. Please adapt your code to use either `displot` (a figure-level function with similar flexibility) or `histplot` (an axes-level function for histograms).\n",
      "  warnings.warn(msg, FutureWarning)\n"
     ]
    },
    {
     "data": {
      "text/plain": [
       "<AxesSubplot:xlabel='Price(In Rupees)', ylabel='Density'>"
      ]
     },
     "execution_count": 85,
     "metadata": {},
     "output_type": "execute_result"
    },
    {
     "data": {
      "image/png": "[encoded data removed]",
      "text/plain": [
       "<Figure size 432x288 with 1 Axes>"
      ]
     },
     "metadata": {
      "needs_background": "light"
     },
     "output_type": "display_data"
    }
   ],
   "source": [
    "sns.distplot(df['Price(In Rupees)'])"
   ]
  },
  {
   "cell_type": "code",
   "execution_count": 86,
   "id": "acace631",
   "metadata": {},
   "outputs": [
    {
     "data": {
      "text/plain": [
       "<AxesSubplot:>"
      ]
     },
     "execution_count": 86,
     "metadata": {},
     "output_type": "execute_result"
    },
    {
     "data": {
      "image/png": "[encoded data removed]",
      "text/plain": [
       "<Figure size 720x432 with 1 Axes>"
      ]
     },
     "metadata": {
      "needs_background": "light"
     },
     "output_type": "display_data"
    }
   ],
   "source": [
    "plt.figure(figsize=(10, 6)) \n",
    "df['Brand'].value_counts().head(10).plot(kind='bar')"
   ]
  },
  {
   "cell_type": "code",
   "execution_count": 87,
   "id": "5e298503",
   "metadata": {},
   "outputs": [
    {
     "data": {
      "text/plain": [
       "<AxesSubplot:>"
      ]
     },
     "execution_count": 87,
     "metadata": {},
     "output_type": "execute_result"
    },
    {
     "data": {
      "image/png": "[encoded data removed]",
      "text/plain": [
       "<Figure size 720x432 with 1 Axes>"
      ]
     },
     "metadata": {
      "needs_background": "light"
     },
     "output_type": "display_data"
    }
   ],
   "source": [
    "plt.figure(figsize=(10,6))\n",
    "df['RAM(GB)'].value_counts().head(10).plot(kind='bar')"
   ]
  },
  {
   "cell_type": "code",
   "execution_count": 88,
   "id": "6729872d",
   "metadata": {},
   "outputs": [
    {
     "data": {
      "text/plain": [
       "<AxesSubplot:>"
      ]
     },
     "execution_count": 88,
     "metadata": {},
     "output_type": "execute_result"
    },
    {
     "data": {
      "image/png": "[encoded data removed]",
      "text/plain": [
       "<Figure size 720x432 with 1 Axes>"
      ]
     },
     "metadata": {
      "needs_background": "light"
     },
     "output_type": "display_data"
    }
   ],
   "source": [
    "plt.figure(figsize=(10,6))\n",
    "df['Battery(mAh)'].value_counts().head(10).plot(kind='bar')"
   ]
  },
  {
   "cell_type": "code",
   "execution_count": 89,
   "id": "d44f3be0",
   "metadata": {},
   "outputs": [
    {
     "data": {
      "text/plain": [
       "Price(In Rupees)              1.000000\n",
       "RAM(GB)                       0.363894\n",
       "ROM(GB)                       0.485401\n",
       "Battery(mAh)                 -0.102874\n",
       "Primary_Rear_Camera(MP)       0.009555\n",
       "Secondary_Rear_Camera1(MP)    0.009555\n",
       "Secondary_Rear_Camera2(MP)    0.208607\n",
       "Front_Camera(MP)              0.074155\n",
       "Display(inches)               0.134134\n",
       "PPI                           0.405220\n",
       "Name: Price(In Rupees), dtype: float64"
      ]
     },
     "execution_count": 89,
     "metadata": {},
     "output_type": "execute_result"
    }
   ],
   "source": [
    "df.corr()['Price(In Rupees)']"
   ]
  },
  {
   "cell_type": "code",
   "execution_count": 90,
   "id": "d0ab1419",
   "metadata": {},
   "outputs": [
    {
     "data": {
      "text/plain": [
       "<AxesSubplot:>"
      ]
     },
     "execution_count": 90,
     "metadata": {},
     "output_type": "execute_result"
    },
    {
     "data": {
      "image/png": "[encoded data removed]",
      "text/plain": [
       "<Figure size 864x432 with 2 Axes>"
      ]
     },
     "metadata": {
      "needs_background": "light"
     },
     "output_type": "display_data"
    }
   ],
   "source": [
    "plt.figure(figsize=(12,6))\n",
    "sns.heatmap(df.corr())"
   ]
  },
  {
   "cell_type": "code",
   "execution_count": 91,
   "id": "373b2884",
   "metadata": {},
   "outputs": [
    {
     "data": {
      "text/plain": [
       "Index(['Brand', 'Price(In Rupees)', 'Processor', 'RAM(GB)', 'ROM(GB)',\n",
       "       'Battery(mAh)', 'Primary_Rear_Camera(MP)', 'Secondary_Rear_Camera1(MP)',\n",
       "       'Secondary_Rear_Camera2(MP)', 'Front_Camera(MP)', 'Display(inches)',\n",
       "       'PPI', 'OS'],\n",
       "      dtype='object')"
      ]
     },
     "execution_count": 91,
     "metadata": {},
     "output_type": "execute_result"
    }
   ],
   "source": [
    "df.columns"
   ]
  },
  {
   "cell_type": "code",
   "execution_count": 92,
   "id": "fd29b90e",
   "metadata": {},
   "outputs": [
    {
     "data": {
      "text/plain": [
       "<AxesSubplot:xlabel='Brand'>"
      ]
     },
     "execution_count": 92,
     "metadata": {},
     "output_type": "execute_result"
    },
    {
     "data": {
      "image/png": "[encoded data removed]",
      "text/plain": [
       "<Figure size 864x432 with 1 Axes>"
      ]
     },
     "metadata": {
      "needs_background": "light"
     },
     "output_type": "display_data"
    }
   ],
   "source": [
    "plt.figure(figsize=(12,6))\n",
    "df.groupby('Brand')['Price(In Rupees)'].mean().head(15).plot(kind='bar')"
   ]
  },
  {
   "cell_type": "code",
   "execution_count": 93,
   "id": "1124f438",
   "metadata": {},
   "outputs": [
    {
     "data": {
      "image/png": "[encoded data removed]",
      "text/plain": [
       "<Figure size 936x432 with 1 Axes>"
      ]
     },
     "metadata": {
      "needs_background": "light"
     },
     "output_type": "display_data"
    }
   ],
   "source": [
    "plt.figure(figsize=(13,6))\n",
    "sns.barplot(x=df['Brand'],y=df['Price(In Rupees)'])\n",
    "plt.xticks(rotation='vertical')\n",
    "plt.tight_layout()"
   ]
  },
  {
   "cell_type": "code",
   "execution_count": 94,
   "id": "afbf0b1c",
   "metadata": {},
   "outputs": [
    {
     "data": {
      "image/png": "[encoded data removed]",
      "text/plain": [
       "<Figure size 936x432 with 1 Axes>"
      ]
     },
     "metadata": {
      "needs_background": "light"
     },
     "output_type": "display_data"
    }
   ],
   "source": [
    "plt.figure(figsize=(13,6))\n",
    "sns.barplot(x=df['RAM(GB)'],y=df['Price(In Rupees)'])\n",
    "plt.xticks(rotation='vertical')\n",
    "plt.tight_layout()"
   ]
  },
  {
   "cell_type": "code",
   "execution_count": 95,
   "id": "7e670ec7",
   "metadata": {},
   "outputs": [
    {
     "data": {
      "image/png": "[encoded data removed]",
      "text/plain": [
       "<Figure size 936x432 with 1 Axes>"
      ]
     },
     "metadata": {
      "needs_background": "light"
     },
     "output_type": "display_data"
    }
   ],
   "source": [
    "plt.figure(figsize=(13,6))\n",
    "sns.barplot(x=df['Processor'],y=df['Price(In Rupees)'])\n",
    "plt.xticks(rotation='vertical')\n",
    "plt.tight_layout()"
   ]
  },
  {
   "cell_type": "code",
   "execution_count": 96,
   "id": "802da6cf",
   "metadata": {},
   "outputs": [
    {
     "data": {
      "text/plain": [
       "<seaborn.axisgrid.PairGrid at 0x1ff0b5e1df0>"
      ]
     },
     "execution_count": 96,
     "metadata": {},
     "output_type": "execute_result"
    },
    {
     "data": {
      "image/png": "[encoded data removed]",
      "text/plain": [
       "<Figure size 1800x1800 with 110 Axes>"
      ]
     },
     "metadata": {
      "needs_background": "light"
     },
     "output_type": "display_data"
    }
   ],
   "source": [
    "sns.pairplot(df)"
   ]
  },
  {
   "cell_type": "code",
   "execution_count": 97,
   "id": "92f5d7e7",
   "metadata": {},
   "outputs": [
    {
     "name": "stderr",
     "output_type": "stream",
     "text": [
      "C:\\FAIZUL\\lib\\site-packages\\seaborn\\distributions.py:2557: FutureWarning: `distplot` is a deprecated function and will be removed in a future version. Please adapt your code to use either `displot` (a figure-level function with similar flexibility) or `histplot` (an axes-level function for histograms).\n",
      "  warnings.warn(msg, FutureWarning)\n"
     ]
    },
    {
     "data": {
      "image/png": "[encoded data removed]",
      "text/plain": [
       "<Figure size 432x288 with 1 Axes>"
      ]
     },
     "metadata": {
      "needs_background": "light"
     },
     "output_type": "display_data"
    }
   ],
   "source": [
    "sns.distplot(np.log(df['Price(In Rupees)']))\n",
    "plt.tight_layout()"
   ]
  },
  {
   "cell_type": "markdown",
   "id": "6bdde119",
   "metadata": {},
   "source": [
    "# Machine Learning"
   ]
  },
  {
   "cell_type": "code",
   "execution_count": 98,
   "id": "e32f7cea",
   "metadata": {},
   "outputs": [],
   "source": [
    "X = df.drop('Price(In Rupees)',axis=1)\n",
    "Y = np.log(df['Price(In Rupees)'])"
   ]
  },
  {
   "cell_type": "code",
   "execution_count": 99,
   "id": "e38c55fa",
   "metadata": {},
   "outputs": [],
   "source": [
    "from sklearn.model_selection import train_test_split\n",
    "\n",
    "# Split the data into training and test sets with a fixed random state\n",
    "X_train, X_test, Y_train, Y_test = train_test_split(X, Y, test_size=0.2, random_state=42)\n"
   ]
  },
  {
   "cell_type": "code",
   "execution_count": 100,
   "id": "9889a7b9",
   "metadata": {},
   "outputs": [],
   "source": [
    "from sklearn.compose import ColumnTransformer\n",
    "from sklearn.pipeline import Pipeline\n",
    "from sklearn.preprocessing import OneHotEncoder\n",
    "from sklearn.metrics import r2_score,mean_absolute_error"
   ]
  },
  {
   "cell_type": "code",
   "execution_count": 101,
   "id": "276310ae",
   "metadata": {},
   "outputs": [
    {
     "name": "stdout",
     "output_type": "stream",
     "text": [
      "Requirement already satisfied: xgboost in c:\\faizul\\lib\\site-packages (1.7.6)\n",
      "Requirement already satisfied: numpy in c:\\faizul\\lib\\site-packages (from xgboost) (1.22.4)\n",
      "Requirement already satisfied: scipy in c:\\faizul\\lib\\site-packages (from xgboost) (1.6.2)\n",
      "Note: you may need to restart the kernel to use updated packages.\n"
     ]
    }
   ],
   "source": [
    "pip install xgboost\n"
   ]
  },
  {
   "cell_type": "code",
   "execution_count": 102,
   "id": "804af07e",
   "metadata": {},
   "outputs": [],
   "source": [
    "from sklearn.linear_model import LinearRegression,Ridge,Lasso\n",
    "from sklearn.neighbors import KNeighborsRegressor\n",
    "from sklearn.tree import DecisionTreeRegressor\n",
    "from sklearn.ensemble import RandomForestRegressor,GradientBoostingRegressor,AdaBoostRegressor,ExtraTreesRegressor\n",
    "from sklearn.svm import SVR\n",
    "from xgboost import XGBRegressor"
   ]
  },
  {
   "cell_type": "code",
   "execution_count": 103,
   "id": "48f21590",
   "metadata": {},
   "outputs": [
    {
     "data": {
      "text/plain": [
       "Brand                         0\n",
       "Price(In Rupees)              0\n",
       "Processor                     0\n",
       "RAM(GB)                       0\n",
       "ROM(GB)                       0\n",
       "Battery(mAh)                  0\n",
       "Primary_Rear_Camera(MP)       0\n",
       "Secondary_Rear_Camera1(MP)    0\n",
       "Secondary_Rear_Camera2(MP)    0\n",
       "Front_Camera(MP)              0\n",
       "Display(inches)               0\n",
       "PPI                           0\n",
       "OS                            0\n",
       "dtype: int64"
      ]
     },
     "execution_count": 103,
     "metadata": {},
     "output_type": "execute_result"
    }
   ],
   "source": [
    "df.isnull().sum()"
   ]
  },
  {
   "cell_type": "code",
   "execution_count": 104,
   "id": "6377dd50",
   "metadata": {},
   "outputs": [
    {
     "name": "stdout",
     "output_type": "stream",
     "text": [
      "<class 'pandas.core.frame.DataFrame'>\n",
      "Int64Index: 1016 entries, 0 to 1019\n",
      "Data columns (total 13 columns):\n",
      " #   Column                      Non-Null Count  Dtype  \n",
      "---  ------                      --------------  -----  \n",
      " 0   Brand                       1016 non-null   object \n",
      " 1   Price(In Rupees)            1016 non-null   int32  \n",
      " 2   Processor                   1016 non-null   object \n",
      " 3   RAM(GB)                     1016 non-null   Int64  \n",
      " 4   ROM(GB)                     1016 non-null   Int64  \n",
      " 5   Battery(mAh)                1016 non-null   Int64  \n",
      " 6   Primary_Rear_Camera(MP)     1016 non-null   int32  \n",
      " 7   Secondary_Rear_Camera1(MP)  1016 non-null   int32  \n",
      " 8   Secondary_Rear_Camera2(MP)  1016 non-null   int32  \n",
      " 9   Front_Camera(MP)            1016 non-null   int32  \n",
      " 10  Display(inches)             1016 non-null   float64\n",
      " 11  PPI                         1016 non-null   float64\n",
      " 12  OS                          1016 non-null   object \n",
      "dtypes: Int64(3), float64(2), int32(5), object(3)\n",
      "memory usage: 126.5+ KB\n"
     ]
    }
   ],
   "source": [
    "df.info()"
   ]
  },
  {
   "cell_type": "markdown",
   "id": "fbc6957e",
   "metadata": {},
   "source": [
    "# Linear Regression"
   ]
  },
  {
   "cell_type": "code",
   "execution_count": 105,
   "id": "c2f2137a",
   "metadata": {},
   "outputs": [
    {
     "name": "stdout",
     "output_type": "stream",
     "text": [
      "R2 score 0.79106206489387\n",
      "MAE 0.2738441569524253\n"
     ]
    },
    {
     "name": "stderr",
     "output_type": "stream",
     "text": [
      "C:\\FAIZUL\\lib\\site-packages\\sklearn\\preprocessing\\_encoders.py:828: FutureWarning: `sparse` was renamed to `sparse_output` in version 1.2 and will be removed in 1.4. `sparse_output` is ignored unless you leave `sparse` to its default value.\n",
      "  warnings.warn(\n"
     ]
    }
   ],
   "source": [
    "step1 = ColumnTransformer(transformers=[\n",
    "    ('col_tnf',OneHotEncoder(sparse=False,drop='first'),[0,1,11])\n",
    "],remainder='passthrough')\n",
    "\n",
    "step2 = LinearRegression()\n",
    "\n",
    "pipe = Pipeline([\n",
    "    ('step1',step1),\n",
    "    ('step2',step2)\n",
    "])\n",
    "\n",
    "pipe.fit(X_train,Y_train)\n",
    "\n",
    "y_pred = pipe.predict(X_test)\n",
    "\n",
    "print('R2 score',r2_score(Y_test,y_pred))\n",
    "print('MAE',mean_absolute_error(Y_test,y_pred))"
   ]
  },
  {
   "cell_type": "markdown",
   "id": "fda5781d",
   "metadata": {},
   "source": [
    "# Ridge Regression"
   ]
  },
  {
   "cell_type": "code",
   "execution_count": 106,
   "id": "69280f53",
   "metadata": {},
   "outputs": [
    {
     "name": "stdout",
     "output_type": "stream",
     "text": [
      "R2 score 0.752544604084169\n",
      "MAE 0.28779535297110453\n"
     ]
    },
    {
     "name": "stderr",
     "output_type": "stream",
     "text": [
      "C:\\FAIZUL\\lib\\site-packages\\sklearn\\preprocessing\\_encoders.py:828: FutureWarning: `sparse` was renamed to `sparse_output` in version 1.2 and will be removed in 1.4. `sparse_output` is ignored unless you leave `sparse` to its default value.\n",
      "  warnings.warn(\n"
     ]
    }
   ],
   "source": [
    "step1 = ColumnTransformer(transformers=[\n",
    "    ('col_tnf',OneHotEncoder(sparse=False,drop='first'),[0,1,11])\n",
    "],remainder='passthrough')\n",
    "\n",
    "step2 = Ridge(alpha=10)\n",
    "\n",
    "pipe = Pipeline([\n",
    "    ('step1',step1),\n",
    "    ('step2',step2)\n",
    "])\n",
    "\n",
    "pipe.fit(X_train,Y_train)\n",
    "\n",
    "y_pred = pipe.predict(X_test)\n",
    "\n",
    "print('R2 score',r2_score(Y_test,y_pred))\n",
    "print('MAE',mean_absolute_error(Y_test,y_pred))"
   ]
  },
  {
   "cell_type": "markdown",
   "id": "cf079119",
   "metadata": {},
   "source": [
    "# Lasso Regression"
   ]
  },
  {
   "cell_type": "code",
   "execution_count": 107,
   "id": "ee93bb0c",
   "metadata": {},
   "outputs": [
    {
     "name": "stderr",
     "output_type": "stream",
     "text": [
      "C:\\FAIZUL\\lib\\site-packages\\sklearn\\preprocessing\\_encoders.py:828: FutureWarning: `sparse` was renamed to `sparse_output` in version 1.2 and will be removed in 1.4. `sparse_output` is ignored unless you leave `sparse` to its default value.\n",
      "  warnings.warn(\n"
     ]
    },
    {
     "name": "stdout",
     "output_type": "stream",
     "text": [
      "R2 score 0.7722138626351323\n",
      "MAE 0.2709052860278556\n"
     ]
    }
   ],
   "source": [
    "step1 = ColumnTransformer(transformers=[\n",
    "    ('col_tnf',OneHotEncoder(sparse=False,drop='first'),[0,1,11])\n",
    "],remainder='passthrough')\n",
    "\n",
    "step2 = Lasso(alpha=0.001)\n",
    "\n",
    "pipe = Pipeline([\n",
    "    ('step1',step1),\n",
    "    ('step2',step2)\n",
    "])\n",
    "\n",
    "pipe.fit(X_train,Y_train)\n",
    "\n",
    "y_pred = pipe.predict(X_test)\n",
    "\n",
    "print('R2 score',r2_score(Y_test,y_pred))\n",
    "print('MAE',mean_absolute_error(Y_test,y_pred))"
   ]
  },
  {
   "cell_type": "markdown",
   "id": "8dfb55d4",
   "metadata": {},
   "source": [
    "# Decision Tree"
   ]
  },
  {
   "cell_type": "code",
   "execution_count": 108,
   "id": "e471a3c3",
   "metadata": {},
   "outputs": [
    {
     "name": "stdout",
     "output_type": "stream",
     "text": [
      "R2 score 0.774683494746165\n",
      "MAE 0.2439419207288359\n"
     ]
    },
    {
     "name": "stderr",
     "output_type": "stream",
     "text": [
      "C:\\FAIZUL\\lib\\site-packages\\sklearn\\preprocessing\\_encoders.py:828: FutureWarning: `sparse` was renamed to `sparse_output` in version 1.2 and will be removed in 1.4. `sparse_output` is ignored unless you leave `sparse` to its default value.\n",
      "  warnings.warn(\n"
     ]
    }
   ],
   "source": [
    "step1 = ColumnTransformer(transformers=[\n",
    "    ('col_tnf',OneHotEncoder(sparse=False,drop='first'),[0,1,11])\n",
    "],remainder='passthrough')\n",
    "\n",
    "step2= DecisionTreeRegressor(max_depth=10)\n",
    "pipe = Pipeline([\n",
    "    ('step1',step1),\n",
    "    ('step2',step2)\n",
    "])\n",
    "\n",
    "pipe.fit(X_train,Y_train)\n",
    "\n",
    "y_pred = pipe.predict(X_test)\n",
    "\n",
    "print('R2 score',r2_score(Y_test,y_pred))\n",
    "print('MAE',mean_absolute_error(Y_test,y_pred))"
   ]
  },
  {
   "cell_type": "markdown",
   "id": "15a8ae68",
   "metadata": {},
   "source": [
    "# Random forest"
   ]
  },
  {
   "cell_type": "code",
   "execution_count": 223,
   "id": "00f95240",
   "metadata": {},
   "outputs": [
    {
     "name": "stdout",
     "output_type": "stream",
     "text": [
      "R2 score 0.7948074987091422\n",
      "MAE 0.2366417008592295\n"
     ]
    },
    {
     "name": "stderr",
     "output_type": "stream",
     "text": [
      "C:\\FAIZUL\\lib\\site-packages\\sklearn\\preprocessing\\_encoders.py:828: FutureWarning: `sparse` was renamed to `sparse_output` in version 1.2 and will be removed in 1.4. `sparse_output` is ignored unless you leave `sparse` to its default value.\n",
      "  warnings.warn(\n"
     ]
    }
   ],
   "source": [
    "step1 = ColumnTransformer(transformers=[\n",
    "    ('col_tnf',OneHotEncoder(sparse=False,drop='first'),[0,1,11])\n",
    "],remainder='passthrough')\n",
    "\n",
    "step2 = RandomForestRegressor(n_estimators=100,\n",
    "                              random_state=3,\n",
    "                              max_samples=0.5,\n",
    "                              max_features=0.75,\n",
    "                              max_depth=15)\n",
    "pipe.fit(X_train,Y_train)\n",
    "\n",
    "y_pred = pipe.predict(X_test)\n",
    "\n",
    "print('R2 score',r2_score(Y_test,y_pred))\n",
    "print('MAE',mean_absolute_error(Y_test,y_pred))\n"
   ]
  },
  {
   "cell_type": "code",
   "execution_count": null,
   "id": "6941b70b",
   "metadata": {},
   "outputs": [],
   "source": []
  },
  {
   "cell_type": "markdown",
   "id": "b6df8ecf",
   "metadata": {},
   "source": [
    "# Exporting the model"
   ]
  },
  {
   "cell_type": "code",
   "execution_count": 224,
   "id": "1746e2f4",
   "metadata": {},
   "outputs": [],
   "source": [
    "import pickle\n",
    "pickle.dump(df,open('df.pkl','wb'))\n",
    "pickle.dump(pipe,open('pipe.pkl','wb'))"
   ]
  },
  {
   "cell_type": "code",
   "execution_count": 225,
   "id": "8cad78dd",
   "metadata": {},
   "outputs": [
    {
     "data": {
      "text/plain": [
       "Price(In Rupees)              1.000000\n",
       "RAM(GB)                       0.363894\n",
       "ROM(GB)                       0.485401\n",
       "Battery(mAh)                 -0.102874\n",
       "Primary_Rear_Camera(MP)       0.009555\n",
       "Secondary_Rear_Camera1(MP)    0.009555\n",
       "Secondary_Rear_Camera2(MP)    0.208607\n",
       "Front_Camera(MP)              0.074155\n",
       "Display(inches)               0.134134\n",
       "PPI                           0.405220\n",
       "Name: Price(In Rupees), dtype: float64"
      ]
     },
     "execution_count": 225,
     "metadata": {},
     "output_type": "execute_result"
    }
   ],
   "source": [
    "df.corr()['Price(In Rupees)']"
   ]
  }
 ],
 "metadata": {
  "kernelspec": {
   "display_name": "Python 3",
   "language": "python",
   "name": "python3"
  },
  "language_info": {
   "codemirror_mode": {
    "name": "ipython",
    "version": 3
   },
   "file_extension": ".py",
   "mimetype": "text/x-python",
   "name": "python",
   "nbconvert_exporter": "python",
   "pygments_lexer": "ipython3",
   "version": "3.8.8"
  }
 },
 "nbformat": 4,
 "nbformat_minor": 5
}
